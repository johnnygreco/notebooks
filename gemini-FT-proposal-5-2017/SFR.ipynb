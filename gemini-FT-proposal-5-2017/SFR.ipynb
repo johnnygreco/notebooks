{
 "cells": [
  {
   "cell_type": "code",
   "execution_count": 1,
   "metadata": {
    "collapsed": true,
    "deletable": true,
    "editable": true
   },
   "outputs": [],
   "source": [
    "%matplotlib inline\n",
    "import numpy as np\n",
    "import matplotlib.pyplot as plt\n",
    "from astropy.table import Table\n",
    "from astropy import units as u\n",
    "from astropy.cosmology import FlatLambdaCDM, z_at_value\n",
    "from toolbox.phot import *\n",
    "import hhana\n",
    "cosmo = FlatLambdaCDM(70.0, 0.3)"
   ]
  },
  {
   "cell_type": "code",
   "execution_count": 62,
   "metadata": {
    "collapsed": true,
    "deletable": true,
    "editable": true
   },
   "outputs": [],
   "source": [
    "SFR = lambda Lnu: 1.4e-28*(Lnu/(u.erg/u.s/u.Hz)).decompose()*u.Msun/u.s\n",
    "LHalpha = lambda sfr: sfr/(7.9e-42)*(u.erg/u.s)/(u.Msun/u.s)"
   ]
  },
  {
   "cell_type": "code",
   "execution_count": 82,
   "metadata": {
    "collapsed": true,
    "deletable": true,
    "editable": true
   },
   "outputs": [],
   "source": [
    "hugs = hhana.SuperCat('hsc-hugs')"
   ]
  },
  {
   "cell_type": "code",
   "execution_count": 48,
   "metadata": {
    "collapsed": true,
    "deletable": true,
    "editable": true
   },
   "outputs": [],
   "source": [
    "sample = Table.read('../../data/proposals/gemini_FT_4-2017/gemini-ft-sample.csv')\n",
    "abs_mag_low = absolute_magnitude(sample['nuv_mag'], D_L=25*u.Mpc)\n",
    "abs_mag_high = absolute_magnitude(sample['nuv_mag'], D_L=100*u.Mpc)\n",
    "Lnu_low = Lnu_from_AB_mag(abs_mag_low)\n",
    "Lnu_high = Lnu_from_AB_mag(abs_mag_high)"
   ]
  },
  {
   "cell_type": "code",
   "execution_count": 74,
   "metadata": {
    "collapsed": false,
    "deletable": true,
    "editable": true
   },
   "outputs": [],
   "source": [
    "dist = 25.0*u.Mpc\n",
    "OII_low = LHalpha(SFR(Lnu_low))/(4*np.pi*dist.to('cm')**2)/10\n",
    "\n",
    "dist = 100.0*u.Mpc\n",
    "OII_high = LHalpha(SFR(Lnu_high))/(4*np.pi*dist.to('cm')**2)/10\n",
    "\n",
    "sample['L(O[II], 25 Mpc)'] = OII_low\n",
    "sample['L(O[II], 100 Mpc)'] = OII_high"
   ]
  }
 ],
 "metadata": {
  "kernelspec": {
   "display_name": "Python [conda env:py35]",
   "language": "python",
   "name": "conda-env-py35-py"
  },
  "language_info": {
   "codemirror_mode": {
    "name": "ipython",
    "version": 3
   },
   "file_extension": ".py",
   "mimetype": "text/x-python",
   "name": "python",
   "nbconvert_exporter": "python",
   "pygments_lexer": "ipython3",
   "version": "3.5.1"
  }
 },
 "nbformat": 4,
 "nbformat_minor": 2
}
