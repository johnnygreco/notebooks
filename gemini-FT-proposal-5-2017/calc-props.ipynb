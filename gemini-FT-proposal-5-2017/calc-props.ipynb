{
 "cells": [
  {
   "cell_type": "code",
   "execution_count": 1,
   "metadata": {
    "collapsed": true,
    "deletable": true,
    "editable": true
   },
   "outputs": [],
   "source": [
    "import numpy as np\n",
    "from astropy.table import Table\n",
    "from toolbox import phot\n",
    "from astropy.cosmology import FlatLambdaCDM\n",
    "from toolbox.phot import absolute_magnitude, lum_solar_units\n",
    "from astropy.coordinates import SkyCoord\n",
    "cosmo = FlatLambdaCDM(70, 0.3)\n",
    "import sfdmap\n",
    "import hdgal"
   ]
  },
  {
   "cell_type": "code",
   "execution_count": 2,
   "metadata": {
    "collapsed": true,
    "deletable": true,
    "editable": true
   },
   "outputs": [],
   "source": [
    "sam = Table.read('data/gemini-ft-sample.csv')\n",
    "EBV = sfdmap.ebv(sam['ra'], sam['dec'])\n",
    "for band in 'gri':\n",
    "    sam['A_'+band] = EBV*getattr(hdgal.ext_coeff, band)\n",
    "sam['g-i_6'] = sam['MAG_APER_6(g)'] - sam['MAG_APER_6(i)']\n",
    "sam['g-r_6'] = sam['MAG_APER_6(g)'] - sam['MAG_APER_6(r)']\n",
    "sam['flux_radius(g)'] = sam['FLUX_RADIUS(g)'] * 0.168\n",
    "sam['r_ave'] = (sam['flux_radius(g)'] + sam['r_e(g)'])/2"
   ]
  },
  {
   "cell_type": "code",
   "execution_count": 4,
   "metadata": {
    "collapsed": false,
    "deletable": true,
    "editable": true
   },
   "outputs": [
    {
     "data": {
      "text/html": [
       "&lt;Table masked=True length=4&gt;\n",
       "<table id=\"table4497726488\" class=\"table-striped table-bordered table-condensed\">\n",
       "<thead><tr><th>hugs-id</th><th>mu_aper_1(g)</th><th>mu_0(g)</th><th>m_tot(g)</th><th>MAG_AUTO(g)</th><th>nuv_mag</th><th>fuv_mag</th><th>r_e(g)</th><th>flux_radius(g)</th><th>r_ave</th><th>g-i_6</th><th>g-r_6</th></tr></thead>\n",
       "<thead><tr><th>int64</th><th>float64</th><th>float64</th><th>float64</th><th>float64</th><th>float64</th><th>float64</th><th>float64</th><th>float64</th><th>float64</th><th>float64</th><th>float64</th></tr></thead>\n",
       "<tr><td>27</td><td>24.1612710687</td><td>23.9156105668</td><td>18.1422545249</td><td>18.0896</td><td>20.40497</td><td>-999.0</td><td>7.8863736</td><td>8.254008</td><td>8.0701908</td><td>0.5249</td><td>0.3686</td></tr>\n",
       "<tr><td>115</td><td>24.3577710687</td><td>24.201582836</td><td>18.6737142541</td><td>18.7016</td><td>19.97638</td><td>20.28036</td><td>8.9492088</td><td>6.613488</td><td>7.7813484</td><td>0.2716</td><td>0.2218</td></tr>\n",
       "<tr><td>118</td><td>24.6792710687</td><td>24.5497233303</td><td>18.5247762008</td><td>18.4678</td><td>20.36192</td><td>20.6895</td><td>11.7231576</td><td>8.559768</td><td>10.1414628</td><td>0.4642</td><td>0.3024</td></tr>\n",
       "<tr><td>125</td><td>23.9822710687</td><td>23.7393654117</td><td>18.0270469045</td><td>18.1525</td><td>19.9232</td><td>20.16203</td><td>9.650256</td><td>8.140944</td><td>8.8956</td><td>0.6651</td><td>0.443</td></tr>\n",
       "</table>"
      ],
      "text/plain": [
       "<Table masked=True length=4>\n",
       "hugs-id  mu_aper_1(g)    mu_0(g)       m_tot(g)   ...   r_ave     g-i_6   g-r_6 \n",
       " int64     float64       float64       float64    ...  float64   float64 float64\n",
       "------- ------------- ------------- ------------- ... ---------- ------- -------\n",
       "     27 24.1612710687 23.9156105668 18.1422545249 ...  8.0701908  0.5249  0.3686\n",
       "    115 24.3577710687  24.201582836 18.6737142541 ...  7.7813484  0.2716  0.2218\n",
       "    118 24.6792710687 24.5497233303 18.5247762008 ... 10.1414628  0.4642  0.3024\n",
       "    125 23.9822710687 23.7393654117 18.0270469045 ...     8.8956  0.6651   0.443"
      ]
     },
     "execution_count": 4,
     "metadata": {},
     "output_type": "execute_result"
    }
   ],
   "source": [
    "sam['hugs-id', 'mu_aper_1(g)', 'mu_0(g)', 'm_tot(g)', 'MAG_AUTO(g)', 'nuv_mag',\\\n",
    "    'fuv_mag','r_e(g)', 'flux_radius(g)', 'r_ave', 'g-i_6', 'g-r_6']"
   ]
  }
 ],
 "metadata": {
  "kernelspec": {
   "display_name": "Python [default]",
   "language": "python",
   "name": "python3"
  },
  "language_info": {
   "codemirror_mode": {
    "name": "ipython",
    "version": 3
   },
   "file_extension": ".py",
   "mimetype": "text/x-python",
   "name": "python",
   "nbconvert_exporter": "python",
   "pygments_lexer": "ipython3",
   "version": "3.5.1"
  }
 },
 "nbformat": 4,
 "nbformat_minor": 2
}
