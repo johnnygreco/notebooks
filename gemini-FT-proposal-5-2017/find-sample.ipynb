{
 "cells": [
  {
   "cell_type": "code",
   "execution_count": 2,
   "metadata": {
    "collapsed": false,
    "deletable": true,
    "editable": true
   },
   "outputs": [],
   "source": [
    "%matplotlib inline\n",
    "import numpy as np\n",
    "import matplotlib.pyplot as plt\n",
    "from astropy.io import ascii\n",
    "from astropy.table import Table, vstack, join\n",
    "import hhana\n",
    "sam = hhana.SuperCat('hsc-hugs')\n",
    "hhana.add_regions_col(sam.cat)\n",
    "sam_big = sam.copy()\n",
    "sam_big.make_cuts(sam_big['FLUX_RADIUS(i)']>3.2/0.168)\n",
    "sam_big.make_cuts(sam_big['candy']==1)"
   ]
  },
  {
   "cell_type": "code",
   "execution_count": 3,
   "metadata": {
    "collapsed": true,
    "deletable": true,
    "editable": true
   },
   "outputs": [],
   "source": [
    "galex_hugs_ids = dict(\n",
    "    AIS=[22, 25, 38, 55, 68, 76, 122, 238, 405, 409],\n",
    "    MIS=[23, 110, 112, 115, 125, 127, 138, 139, 146, \n",
    "         158, 171, 173, 243, 286, 314, 320, 329, 331, \n",
    "         336, 351, 392],\n",
    "    DIS=[19, 24, 48, 82],\n",
    "    GII=[33, 115, 118, 119, 212, 215, 216, 230],\n",
    "    NGS=[27, 33]\n",
    ")"
   ]
  },
  {
   "cell_type": "code",
   "execution_count": 4,
   "metadata": {
    "collapsed": true,
    "deletable": true,
    "editable": true
   },
   "outputs": [],
   "source": [
    "galex_all =  ascii.read('../../hsc-hugs-paper-I/data/MAST_xmatch_GALEX_with_3-6-2017-sample.csv')"
   ]
  },
  {
   "cell_type": "code",
   "execution_count": 5,
   "metadata": {
    "collapsed": false
   },
   "outputs": [
    {
     "data": {
      "text/plain": [
       "187.5"
      ]
     },
     "execution_count": 5,
     "metadata": {},
     "output_type": "execute_result"
    }
   ],
   "source": [
    "12.5*15"
   ]
  },
  {
   "cell_type": "code",
   "execution_count": 68,
   "metadata": {
    "collapsed": false,
    "deletable": true,
    "editable": true,
    "scrolled": false
   },
   "outputs": [
    {
     "name": "stdout",
     "output_type": "stream",
     "text": [
      "AIS has 34 entries\n",
      "DIS has 24 entries\n",
      "GII has 23 entries\n",
      "MIS has 30 entries\n",
      "NGS has 1 entries\n"
     ]
    }
   ],
   "source": [
    "galex = ascii.read('../../hsc-hugs-paper-I/data/MAST_xmatch_GALEX_with_3-6-2017-sample.csv')\n",
    "galex.sort('distanceArcMin')\n",
    "flag_cut = galex['nuv_artifact'] != 2\n",
    "flag_cut &= galex['nuv_artifact'] != 4\n",
    "#flag_cut &= galex['fuv_artifact'] != 4\n",
    "galex = galex[flag_cut]\n",
    "galex = galex[galex['nuv_mag']>0]\n",
    "size_cut = sam[galex['hugs-id']]['FLUX_RADIUS(i)']>3.0/0.168\n",
    "ra_cut = (sam[galex['hugs-id']]['ra'] < 6*15) | (sam[galex['hugs-id']]['ra'] > 11.9*15) \n",
    "galex = galex[size_cut & ra_cut]\n",
    "    \n",
    "AIS = galex[galex['survey']=='AIS']\n",
    "DIS = galex[galex['survey']=='DIS']\n",
    "GII = galex[galex['survey']=='GII']\n",
    "MIS = galex[galex['survey']=='MIS']\n",
    "NGS = galex[galex['survey']=='NGS']\n",
    "\n",
    "for s in [AIS, DIS, GII, MIS, NGS]:\n",
    "    try:\n",
    "        print('{} has {} entries'.format(s['survey'][0], len(s)))\n",
    "    except:\n",
    "        pass"
   ]
  },
  {
   "cell_type": "markdown",
   "metadata": {
    "deletable": true,
    "editable": true
   },
   "source": [
    "AIS has 35 entries\n",
    "DIS has 24 entries\n",
    "GII has 23 entries\n",
    "MIS has 30 entries\n",
    "NGS has 1 entries\n"
   ]
  },
  {
   "cell_type": "code",
   "execution_count": 69,
   "metadata": {
    "collapsed": false,
    "deletable": true,
    "editable": true
   },
   "outputs": [
    {
     "name": "stdout",
     "output_type": "stream",
     "text": [
      "AIS has 29 unique entries\n",
      "DIS has 10 unique entries\n",
      "GII has 20 unique entries\n",
      "MIS has 24 unique entries\n",
      "NGS has 1 unique entries\n"
     ]
    }
   ],
   "source": [
    "def get_unique(table):\n",
    "    table_unique = Table()\n",
    "    for hid in np.unique(table['hugs-id']):\n",
    "        id_cut = table['hugs-id']==hid\n",
    "        idx_min= np.argmin(table[id_cut]['nuv_magerr'])\n",
    "        table_unique = vstack([table_unique, table[id_cut][idx_min]])\n",
    "    return table_unique\n",
    "AIS = get_unique(AIS)\n",
    "MIS = get_unique(MIS)\n",
    "DIS = get_unique(DIS)\n",
    "GII = get_unique(GII)\n",
    "NGS = get_unique(NGS)\n",
    "galex = get_unique(galex)\n",
    "\n",
    "for s in [AIS, DIS, GII, MIS, NGS]:\n",
    "    try:\n",
    "        print('{} has {} unique entries'.format(s['survey'][0], len(s)))\n",
    "    except:\n",
    "        pass"
   ]
  },
  {
   "cell_type": "code",
   "execution_count": 70,
   "metadata": {
    "collapsed": false,
    "deletable": true,
    "editable": true
   },
   "outputs": [],
   "source": [
    "galex.sort('nuv_mag')"
   ]
  },
  {
   "cell_type": "code",
   "execution_count": 71,
   "metadata": {
    "collapsed": false,
    "deletable": true,
    "editable": true
   },
   "outputs": [],
   "source": [
    "AIS.sort('nuv_mag')\n",
    "MIS.sort('nuv_mag')"
   ]
  },
  {
   "cell_type": "code",
   "execution_count": null,
   "metadata": {
    "collapsed": false,
    "deletable": true,
    "editable": true,
    "scrolled": true
   },
   "outputs": [],
   "source": [
    "plt.scatter(galex['nuv_mag'], sam[galex['hugs-id']]['mu_aper_0(g)'], c=sam[galex['hugs-id']]['r_e(g)'])\n",
    "cb = plt.colorbar()\n",
    "cb.ax.set_ylabel(r'$r_\\mathrm{eff}$ [arcsec]', fontsize=18)\n",
    "plt.xlabel(r'$m_\\mathrm{nuv}$', fontsize=18)\n",
    "plt.ylabel(r'$\\mu_0(g)$', fontsize=18)"
   ]
  },
  {
   "cell_type": "code",
   "execution_count": null,
   "metadata": {
    "collapsed": false,
    "deletable": true,
    "editable": true,
    "scrolled": false
   },
   "outputs": [],
   "source": [
    "size = 200\n",
    "for obj in galex:\n",
    "    hid = obj['hugs-id']\n",
    "    sc = SkyCoord(obj['ra'], obj['dec'], unit='deg')\n",
    "    print('hsc-hugs #{}; coord = {}, mag_nuv = {}'.format(hid, sc.to_string('hmsdms'), obj['nuv_mag']))\n",
    "    hhana.nbtools.display_galex_compare(hid, size=size, survey=obj['survey'])"
   ]
  },
  {
   "cell_type": "code",
   "execution_count": 14,
   "metadata": {
    "collapsed": false,
    "deletable": true,
    "editable": true
   },
   "outputs": [
    {
     "name": "stdout",
     "output_type": "stream",
     "text": [
      "hours restricted to 187.5 90 hours\n"
     ]
    }
   ],
   "source": [
    "print('hours restricted to', 12.5*15, 6*15, 'hours')"
   ]
  },
  {
   "cell_type": "code",
   "execution_count": 6,
   "metadata": {
    "collapsed": false,
    "deletable": true,
    "editable": true
   },
   "outputs": [],
   "source": [
    "if False:\n",
    "    region = 4\n",
    "    sam_reg = sam.copy()\n",
    "    sam_reg.cat = sam_reg[galex_hugs_ids['MIS']]\n",
    "    sam_reg.cat = sam_reg[sam_reg['region']==region]\n",
    "    sam_reg.cat = sam_reg[sam_reg['FLUX_RADIUS(i)']>3.0/0.168]\n",
    "    fig, ax = hhana.plot.circles_on_region(sam_big[sam_big['region']==region], \n",
    "                                           fp=footprints[region].cat, sam_kws={'c':'r'})\n",
    "    hhana.plot.circles_on_region(sam_reg, subplots=(fig, ax), sam_kws={'c':'b'});"
   ]
  },
  {
   "cell_type": "code",
   "execution_count": 10,
   "metadata": {
    "collapsed": true,
    "deletable": true,
    "editable": true
   },
   "outputs": [],
   "source": [
    "proposed_hugs_ids = dict(\n",
    "    MIS=[138, 139, 146, 243, 115, 173, 158, 125],\n",
    "    GII=[118, 212, 119, 230, 215],\n",
    "    NGS=[27]\n",
    ")"
   ]
  },
  {
   "cell_type": "code",
   "execution_count": null,
   "metadata": {
    "collapsed": false,
    "deletable": true,
    "editable": true,
    "scrolled": false
   },
   "outputs": [],
   "source": [
    "surveys = ['MIS', 'GII', 'NGS']\n",
    "size = 200\n",
    "for survey in surveys:\n",
    "    for hid in proposed_hugs_ids[survey]:\n",
    "        print('hsc-hugs #{}'.format(hid))\n",
    "        hhana.nbtools.display_galex_compare(hid, size=size, survey=survey)"
   ]
  },
  {
   "cell_type": "code",
   "execution_count": 11,
   "metadata": {
    "collapsed": true,
    "deletable": true,
    "editable": true
   },
   "outputs": [],
   "source": [
    "def difference_matrix(a):\n",
    "    x = np.reshape(a, (len(a), 1))\n",
    "    return x - x.transpose()"
   ]
  },
  {
   "cell_type": "code",
   "execution_count": null,
   "metadata": {
    "collapsed": false,
    "deletable": true,
    "editable": true
   },
   "outputs": [],
   "source": [
    "match = Table()\n",
    "max_diffs = []\n",
    "for hid in proposed_hugs_ids['GII']:\n",
    "    match = vstack([match, galex[galex['hugs-id']==hid].copy()])\n",
    "    nuv = galex[galex['hugs-id']==hid]['nuv_mag']\n",
    "    max_diffs.append(difference_matrix(nuv).max())\n",
    "    print(hid,difference_matrix(nuv).max())\n",
    "plt.hist(max_diffs);"
   ]
  },
  {
   "cell_type": "code",
   "execution_count": 11,
   "metadata": {
    "collapsed": false,
    "deletable": true,
    "editable": true
   },
   "outputs": [],
   "source": [
    "galex_unique = get_unique(galex.copy())\n",
    "galex_unique = join(galex_unique, sam.cat, keys='hugs-id')\n",
    "match = Table()\n",
    "for row in proposed_hugs_ids.values():\n",
    "    for hid in row:\n",
    "        match = vstack([match, galex_unique[galex_unique['hugs-id']==hid].copy()])"
   ]
  },
  {
   "cell_type": "code",
   "execution_count": 32,
   "metadata": {
    "collapsed": false,
    "deletable": true,
    "editable": true
   },
   "outputs": [],
   "source": [
    "cols = ['hugs-id','MatchRA', 'MatchDEC', 'nuv_mag', 'nuv_magerr', 'm_tot(g)', \n",
    "        'mu_aper_0(g)', 'm_tot(i)', 'mu_aper_0(i)', 'survey']\n",
    "match_pd = match[cols].to_pandas()"
   ]
  },
  {
   "cell_type": "code",
   "execution_count": 34,
   "metadata": {
    "collapsed": true,
    "deletable": true,
    "editable": true
   },
   "outputs": [],
   "source": [
    "match_pd.to_csv('/Users/protostar/Desktop/gemini-ft-sample.csv', index=False)"
   ]
  }
 ],
 "metadata": {
  "kernelspec": {
   "display_name": "Python [conda env:py35]",
   "language": "python",
   "name": "conda-env-py35-py"
  },
  "language_info": {
   "codemirror_mode": {
    "name": "ipython",
    "version": 3
   },
   "file_extension": ".py",
   "mimetype": "text/x-python",
   "name": "python",
   "nbconvert_exporter": "python",
   "pygments_lexer": "ipython3",
   "version": "3.5.1"
  }
 },
 "nbformat": 4,
 "nbformat_minor": 2
}
