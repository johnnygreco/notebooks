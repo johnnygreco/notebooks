{
 "cells": [
  {
   "cell_type": "code",
   "execution_count": 1,
   "metadata": {
    "collapsed": true,
    "deletable": true,
    "editable": true
   },
   "outputs": [],
   "source": [
    "%matplotlib inline\n",
    "import numpy as np\n",
    "import matplotlib.pyplot as plt\n",
    "from astropy.table import Table\n",
    "from astropy import units as u\n",
    "from astropy.cosmology import FlatLambdaCDM, z_at_value\n",
    "from toolbox.phot import *\n",
    "import hhana\n",
    "cosmo = FlatLambdaCDM(70.0, 0.3)"
   ]
  },
  {
   "cell_type": "code",
   "execution_count": 62,
   "metadata": {
    "collapsed": true
   },
   "outputs": [],
   "source": [
    "SFR = lambda Lnu: 1.4e-28*(Lnu/(u.erg/u.s/u.Hz)).decompose()*u.Msun/u.s\n",
    "LHalpha = lambda sfr: sfr/(7.9e-42)*(u.erg/u.s)/(u.Msun/u.s)"
   ]
  },
  {
   "cell_type": "code",
   "execution_count": 82,
   "metadata": {
    "collapsed": true
   },
   "outputs": [],
   "source": [
    "hugs = hhana.SuperCat('hsc-hugs')"
   ]
  },
  {
   "cell_type": "code",
   "execution_count": 48,
   "metadata": {
    "collapsed": true,
    "deletable": true,
    "editable": true
   },
   "outputs": [],
   "source": [
    "sample = Table.read('../../data/proposals/gemini_FT_4-2017/gemini-ft-sample.csv')\n",
    "abs_mag_low = absolute_magnitude(sample['nuv_mag'], D_L=25*u.Mpc)\n",
    "abs_mag_high = absolute_magnitude(sample['nuv_mag'], D_L=100*u.Mpc)\n",
    "Lnu_low = Lnu_from_AB_mag(abs_mag_low)\n",
    "Lnu_high = Lnu_from_AB_mag(abs_mag_high)"
   ]
  },
  {
   "cell_type": "code",
   "execution_count": 49,
   "metadata": {
    "collapsed": false
   },
   "outputs": [
    {
     "data": {
      "image/png": "[encoded data removed]",
      "text/plain": [
       "<matplotlib.figure.Figure at 0x10fb74c50>"
      ]
     },
     "metadata": {},
     "output_type": "display_data"
    }
   ],
   "source": [
    "plt.hist(SFR(Lnu_low), bins='auto');"
   ]
  },
  {
   "cell_type": "code",
   "execution_count": 51,
   "metadata": {
    "collapsed": false
   },
   "outputs": [
    {
     "data": {
      "image/png": "[encoded data removed]",
      "text/plain": [
       "<matplotlib.figure.Figure at 0x112583dd8>"
      ]
     },
     "metadata": {},
     "output_type": "display_data"
    }
   ],
   "source": [
    "plt.hist(SFR(Lnu_high), bins='auto');"
   ]
  },
  {
   "cell_type": "code",
   "execution_count": 74,
   "metadata": {
    "collapsed": false
   },
   "outputs": [],
   "source": [
    "dist = 25.0*u.Mpc\n",
    "OII_low = LHalpha(SFR(Lnu_low))/(4*np.pi*dist.to('cm')**2)/10\n",
    "\n",
    "dist = 100.0*u.Mpc\n",
    "OII_high = LHalpha(SFR(Lnu_high))/(4*np.pi*dist.to('cm')**2)/10\n",
    "\n",
    "sample['L(O[II], 25 Mpc)'] = OII_low\n",
    "sample['L(O[II], 100 Mpc)'] = OII_high"
   ]
  },
  {
   "cell_type": "code",
   "execution_count": 79,
   "metadata": {
    "collapsed": false
   },
   "outputs": [
    {
     "data": {
      "text/html": [
       "&lt;Table length=13&gt;\n",
       "<table id=\"table4603590416\" class=\"table-striped table-bordered table-condensed\">\n",
       "<thead><tr><th>hugs-id</th><th>mu_aper_0(g)</th><th>nuv_mag</th><th>nuv_magerr</th><th>L(O[II], 25 Mpc)</th></tr></thead>\n",
       "<thead><tr><th></th><th></th><th></th><th></th><th>erg / (cm2 s)</th></tr></thead>\n",
       "<thead><tr><th>float64</th><th>float64</th><th>float64</th><th>float64</th><th>float64</th></tr></thead>\n",
       "<tr><td>27.0</td><td>24.1234773856</td><td>20.53348</td><td>0.2264893</td><td>3.93648811341e-16</td></tr>\n",
       "<tr><td>118.0</td><td>24.6584773856</td><td>21.39005</td><td>0.3130894</td><td>1.78846705452e-16</td></tr>\n",
       "<tr><td>212.0</td><td>24.1542773856</td><td>22.69895</td><td>0.1503454</td><td>5.35699134106e-17</td></tr>\n",
       "<tr><td>119.0</td><td>24.3187773856</td><td>22.02215</td><td>0.1899373</td><td>9.99173585568e-17</td></tr>\n",
       "<tr><td>230.0</td><td>25.2759773856</td><td>21.46568</td><td>0.3833653</td><td>1.66812635686e-16</td></tr>\n",
       "<tr><td>215.0</td><td>24.3998773856</td><td>21.01833</td><td>0.06860986</td><td>2.51865651683e-16</td></tr>\n",
       "<tr><td>138.0</td><td>24.3729773856</td><td>21.4964</td><td>0.42163</td><td>1.62158957769e-16</td></tr>\n",
       "<tr><td>139.0</td><td>24.4980773856</td><td>21.78429</td><td>0.1232799</td><td>1.2438985008e-16</td></tr>\n",
       "<tr><td>146.0</td><td>24.0789773856</td><td>22.09027</td><td>0.1963769</td><td>9.38410685555e-17</td></tr>\n",
       "<tr><td>243.0</td><td>25.0242773856</td><td>21.20851</td><td>0.266813</td><td>2.11396087123e-16</td></tr>\n",
       "<tr><td>115.0</td><td>24.3474773856</td><td>20.10197</td><td>0.1557966</td><td>5.85750872795e-16</td></tr>\n",
       "<tr><td>173.0</td><td>24.5123773856</td><td>22.02698</td><td>0.1105991</td><td>9.94738539726e-17</td></tr>\n",
       "<tr><td>158.0</td><td>24.6879773856</td><td>22.41342</td><td>0.4570281</td><td>6.96839795112e-17</td></tr>\n",
       "</table>"
      ],
      "text/plain": [
       "<Table length=13>\n",
       "hugs-id  mu_aper_0(g) nuv_mag  nuv_magerr  L(O[II], 25 Mpc)\n",
       "                                            erg / (cm2 s)  \n",
       "float64    float64    float64   float64        float64     \n",
       "------- ------------- -------- ---------- -----------------\n",
       "   27.0 24.1234773856 20.53348  0.2264893 3.93648811341e-16\n",
       "  118.0 24.6584773856 21.39005  0.3130894 1.78846705452e-16\n",
       "  212.0 24.1542773856 22.69895  0.1503454 5.35699134106e-17\n",
       "  119.0 24.3187773856 22.02215  0.1899373 9.99173585568e-17\n",
       "  230.0 25.2759773856 21.46568  0.3833653 1.66812635686e-16\n",
       "  215.0 24.3998773856 21.01833 0.06860986 2.51865651683e-16\n",
       "  138.0 24.3729773856  21.4964    0.42163 1.62158957769e-16\n",
       "  139.0 24.4980773856 21.78429  0.1232799  1.2438985008e-16\n",
       "  146.0 24.0789773856 22.09027  0.1963769 9.38410685555e-17\n",
       "  243.0 25.0242773856 21.20851   0.266813 2.11396087123e-16\n",
       "  115.0 24.3474773856 20.10197  0.1557966 5.85750872795e-16\n",
       "  173.0 24.5123773856 22.02698  0.1105991 9.94738539726e-17\n",
       "  158.0 24.6879773856 22.41342  0.4570281 6.96839795112e-17"
      ]
     },
     "execution_count": 79,
     "metadata": {},
     "output_type": "execute_result"
    }
   ],
   "source": [
    "sample['hugs-id', 'mu_aper_0(g)', 'nuv_mag', 'nuv_magerr', 'L(O[II], 25 Mpc)']"
   ]
  },
  {
   "cell_type": "code",
   "execution_count": null,
   "metadata": {
    "collapsed": true
   },
   "outputs": [],
   "source": [
    "targets = [139, 173, 158, "
   ]
  },
  {
   "cell_type": "code",
   "execution_count": 93,
   "metadata": {
    "collapsed": false
   },
   "outputs": [
    {
     "data": {
      "text/html": [
       "&lt;Table length=1&gt;\n",
       "<table id=\"table4630635128\" class=\"table-striped table-bordered table-condensed\">\n",
       "<thead><tr><th>ra</th><th>dec</th><th>n</th><th>r_e(g)</th></tr></thead>\n",
       "<thead><tr><th>float64</th><th>float64</th><th>float64</th><th>float64</th></tr></thead>\n",
       "<tr><td>39.4811965279</td><td>-6.2565849096</td><td>0.743127</td><td>7.8863736</td></tr>\n",
       "</table>"
      ],
      "text/plain": [
       "<Table length=1>\n",
       "      ra           dec         n       r_e(g) \n",
       "   float64       float64    float64   float64 \n",
       "------------- ------------- -------- ---------\n",
       "39.4811965279 -6.2565849096 0.743127 7.8863736"
      ]
     },
     "execution_count": 93,
     "metadata": {},
     "output_type": "execute_result"
    }
   ],
   "source": [
    "hugs[hugs['hugs-id']==27]['ra', 'dec', 'n', 'r_e(g)']"
   ]
  },
  {
   "cell_type": "code",
   "execution_count": 94,
   "metadata": {
    "collapsed": true
   },
   "outputs": [],
   "source": [
    "hhana.hsc_map(39.4811965279, -6.2565849096)"
   ]
  }
 ],
 "metadata": {
  "kernelspec": {
   "display_name": "Python [conda env:py35]",
   "language": "python",
   "name": "conda-env-py35-py"
  },
  "language_info": {
   "codemirror_mode": {
    "name": "ipython",
    "version": 3
   },
   "file_extension": ".py",
   "mimetype": "text/x-python",
   "name": "python",
   "nbconvert_exporter": "python",
   "pygments_lexer": "ipython3",
   "version": "3.5.1"
  }
 },
 "nbformat": 4,
 "nbformat_minor": 2
}
