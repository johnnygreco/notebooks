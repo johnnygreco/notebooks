{
 "cells": [
  {
   "cell_type": "code",
   "execution_count": 1,
   "metadata": {
    "collapsed": true
   },
   "outputs": [],
   "source": [
    "%matplotlib inline\n",
    "import numpy as np\n",
    "import matplotlib.pyplot as plt\n",
    "from astropy.table import Table\n",
    "import hdgal\n",
    "targets = Table.read('data/gemini-ft-sample.csv')"
   ]
  },
  {
   "cell_type": "code",
   "execution_count": 6,
   "metadata": {
    "collapsed": false
   },
   "outputs": [
    {
     "data": {
      "text/html": [
       "<img style='width: 220px; height:220px;margin:0px; float: left; border: 5px solid black;'src='../../data/rgb-cutouts/sample-3-6-2017/candy-27.png' /><img style='width: 220px; height:220px;margin:0px; float: left; border: 5px solid black;'src='../../data/rgb-cutouts/sample-3-6-2017/candy-115.png' /><img style='width: 220px; height:220px;margin:0px; float: left; border: 5px solid black;'src='../../data/rgb-cutouts/sample-3-6-2017/candy-118.png' /><img style='width: 220px; height:220px;margin:0px; float: left; border: 5px solid black;'src='../../data/rgb-cutouts/sample-3-6-2017/candy-125.png' />"
      ],
      "text/plain": [
       "<IPython.core.display.HTML object>"
      ]
     },
     "metadata": {},
     "output_type": "display_data"
    }
   ],
   "source": [
    "hdgal.nbtools.display_group(targets['hugs-id'])"
   ]
  }
 ],
 "metadata": {
  "kernelspec": {
   "display_name": "Python [conda env:py35]",
   "language": "python",
   "name": "conda-env-py35-py"
  },
  "language_info": {
   "codemirror_mode": {
    "name": "ipython",
    "version": 3
   },
   "file_extension": ".py",
   "mimetype": "text/x-python",
   "name": "python",
   "nbconvert_exporter": "python",
   "pygments_lexer": "ipython3",
   "version": "3.5.1"
  }
 },
 "nbformat": 4,
 "nbformat_minor": 2
}
