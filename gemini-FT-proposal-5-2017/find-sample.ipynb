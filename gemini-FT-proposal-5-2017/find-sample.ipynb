{
 "cells": [
  {
   "cell_type": "code",
   "execution_count": 1,
   "metadata": {
    "collapsed": false,
    "deletable": true,
    "editable": true
   },
   "outputs": [],
   "source": [
    "%matplotlib inline\n",
    "import numpy as np\n",
    "import matplotlib.pyplot as plt\n",
    "from astropy.io import ascii\n",
    "from astropy.table import Table, vstack, join\n",
    "import hhana\n",
    "sam = hhana.SuperCat('hsc-hugs')\n",
    "hhana.add_regions_col(sam.cat)\n",
    "sam_big = sam.copy()\n",
    "sam_big.make_cuts(sam_big['FLUX_RADIUS(i)']>3.2/0.168)\n",
    "sam_big.make_cuts(sam_big['candy']==1)"
   ]
  },
  {
   "cell_type": "code",
   "execution_count": 2,
   "metadata": {
    "collapsed": true,
    "deletable": true,
    "editable": true
   },
   "outputs": [],
   "source": [
    "galex_hugs_ids = dict(\n",
    "    AIS=[22, 25, 38, 55, 68, 76, 122, 238, 405, 409],\n",
    "    MIS=[23, 110, 112, 115, 125, 127, 138, 139, 146, \n",
    "         158, 171, 173, 243, 286, 314, 320, 329, 331, \n",
    "         336, 351, 392],\n",
    "    DIS=[19, 24, 48, 82],\n",
    "    GII=[33, 115, 118, 119, 212, 215, 216, 230],\n",
    "    NGS=[27, 33]\n",
    ")"
   ]
  },
  {
   "cell_type": "code",
   "execution_count": 3,
   "metadata": {
    "collapsed": true,
    "deletable": true,
    "editable": true
   },
   "outputs": [],
   "source": [
    "galex_all =  ascii.read('../../hsc-hugs-paper-I/data/MAST_xmatch_GALEX_with_3-6-2017-sample.csv')"
   ]
  },
  {
   "cell_type": "code",
   "execution_count": 4,
   "metadata": {
    "collapsed": false,
    "deletable": true,
    "editable": true
   },
   "outputs": [
    {
     "data": {
      "text/plain": [
       "187.5"
      ]
     },
     "execution_count": 4,
     "metadata": {},
     "output_type": "execute_result"
    }
   ],
   "source": [
    "12.5*15"
   ]
  },
  {
   "cell_type": "code",
   "execution_count": 5,
   "metadata": {
    "collapsed": false,
    "deletable": true,
    "editable": true,
    "scrolled": false
   },
   "outputs": [
    {
     "name": "stdout",
     "output_type": "stream",
     "text": [
      "AIS has 34 entries\n",
      "DIS has 24 entries\n",
      "GII has 23 entries\n",
      "MIS has 30 entries\n",
      "NGS has 1 entries\n"
     ]
    }
   ],
   "source": [
    "galex = ascii.read('../../hsc-hugs-paper-I/data/MAST_xmatch_GALEX_with_3-6-2017-sample.csv')\n",
    "galex.sort('distanceArcMin')\n",
    "flag_cut = galex['nuv_artifact'] != 2\n",
    "flag_cut &= galex['nuv_artifact'] != 4\n",
    "#flag_cut &= galex['fuv_artifact'] != 4\n",
    "galex = galex[flag_cut]\n",
    "galex = galex[galex['nuv_mag']>0]\n",
    "size_cut = sam[galex['hugs-id']]['FLUX_RADIUS(i)']>3.0/0.168\n",
    "ra_cut = (sam[galex['hugs-id']]['ra'] < 6*15) | (sam[galex['hugs-id']]['ra'] > 11.9*15) \n",
    "galex = galex[size_cut & ra_cut]\n",
    "    \n",
    "AIS = galex[galex['survey']=='AIS']\n",
    "DIS = galex[galex['survey']=='DIS']\n",
    "GII = galex[galex['survey']=='GII']\n",
    "MIS = galex[galex['survey']=='MIS']\n",
    "NGS = galex[galex['survey']=='NGS']\n",
    "\n",
    "for s in [AIS, DIS, GII, MIS, NGS]:\n",
    "    try:\n",
    "        print('{} has {} entries'.format(s['survey'][0], len(s)))\n",
    "    except:\n",
    "        pass"
   ]
  },
  {
   "cell_type": "markdown",
   "metadata": {
    "deletable": true,
    "editable": true
   },
   "source": [
    "AIS has 35 entries\n",
    "DIS has 24 entries\n",
    "GII has 23 entries\n",
    "MIS has 30 entries\n",
    "NGS has 1 entries\n"
   ]
  },
  {
   "cell_type": "code",
   "execution_count": 6,
   "metadata": {
    "collapsed": false,
    "deletable": true,
    "editable": true
   },
   "outputs": [
    {
     "name": "stdout",
     "output_type": "stream",
     "text": [
      "AIS has 29 unique entries\n",
      "DIS has 10 unique entries\n",
      "GII has 20 unique entries\n",
      "MIS has 24 unique entries\n",
      "NGS has 1 unique entries\n"
     ]
    }
   ],
   "source": [
    "def get_unique(table):\n",
    "    table_unique = Table()\n",
    "    for hid in np.unique(table['hugs-id']):\n",
    "        id_cut = table['hugs-id']==hid\n",
    "        idx_min= np.argmin(table[id_cut]['nuv_magerr'])\n",
    "        table_unique = vstack([table_unique, table[id_cut][idx_min]])\n",
    "    return table_unique\n",
    "AIS = get_unique(AIS)\n",
    "MIS = get_unique(MIS)\n",
    "DIS = get_unique(DIS)\n",
    "GII = get_unique(GII)\n",
    "NGS = get_unique(NGS)\n",
    "galex = get_unique(galex)\n",
    "\n",
    "for s in [AIS, DIS, GII, MIS, NGS]:\n",
    "    try:\n",
    "        print('{} has {} unique entries'.format(s['survey'][0], len(s)))\n",
    "    except:\n",
    "        pass"
   ]
  },
  {
   "cell_type": "code",
   "execution_count": 7,
   "metadata": {
    "collapsed": false,
    "deletable": true,
    "editable": true
   },
   "outputs": [],
   "source": [
    "galex.sort('nuv_mag')"
   ]
  },
  {
   "cell_type": "code",
   "execution_count": 8,
   "metadata": {
    "collapsed": false,
    "deletable": true,
    "editable": true
   },
   "outputs": [],
   "source": [
    "AIS.sort('nuv_mag')\n",
    "MIS.sort('nuv_mag')"
   ]
  },
  {
   "cell_type": "code",
   "execution_count": 9,
   "metadata": {
    "collapsed": false,
    "deletable": true,
    "editable": true,
    "scrolled": true
   },
   "outputs": [
    {
     "data": {
      "text/plain": [
       "<matplotlib.text.Text at 0x1139e6e48>"
      ]
     },
     "execution_count": 9,
     "metadata": {},
     "output_type": "execute_result"
    },
    {
     "data": {
      "image/png": "[encoded data removed]",
      "text/plain": [
       "<matplotlib.figure.Figure at 0x1136262e8>"
      ]
     },
     "metadata": {},
     "output_type": "display_data"
    }
   ],
   "source": [
    "plt.scatter(galex['nuv_mag'], sam[galex['hugs-id']]['mu_aper_0(g)'], c=sam[galex['hugs-id']]['r_e(g)'])\n",
    "cb = plt.colorbar()\n",
    "cb.ax.set_ylabel(r'$r_\\mathrm{eff}$ [arcsec]', fontsize=18)\n",
    "plt.xlabel(r'$m_\\mathrm{nuv}$', fontsize=18)\n",
    "plt.ylabel(r'$\\mu_0(g)$', fontsize=18)"
   ]
  },
  {
   "cell_type": "code",
   "execution_count": 10,
   "metadata": {
    "collapsed": true,
    "deletable": true,
    "editable": true
   },
   "outputs": [],
   "source": [
    "from astropy.coordinates import SkyCoord"
   ]
  },
  {
   "cell_type": "code",
   "execution_count": 24,
   "metadata": {
    "collapsed": false,
    "deletable": true,
    "editable": true
   },
   "outputs": [
    {
     "data": {
      "text/html": [
       "&lt;Table length=1&gt;\n",
       "<table id=\"table4634104440\" class=\"table-striped table-bordered table-condensed\">\n",
       "<thead><tr><th>mu_aper_0(g)</th><th>PA</th></tr></thead>\n",
       "<thead><tr><th>float64</th><th>float64</th></tr></thead>\n",
       "<tr><td>24.3474773856</td><td>104.735</td></tr>\n",
       "</table>"
      ],
      "text/plain": [
       "<Table length=1>\n",
       " mu_aper_0(g)    PA  \n",
       "   float64    float64\n",
       "------------- -------\n",
       "24.3474773856 104.735"
      ]
     },
     "execution_count": 24,
     "metadata": {},
     "output_type": "execute_result"
    }
   ],
   "source": [
    "sam[sam['hugs-id']==115]['mu_aper_0(g)', 'PA']"
   ]
  },
  {
   "cell_type": "code",
   "execution_count": 22,
   "metadata": {
    "collapsed": false,
    "deletable": true,
    "editable": true
   },
   "outputs": [
    {
     "data": {
      "text/html": [
       "&lt;Table length=1&gt;\n",
       "<table id=\"table4634210256\" class=\"table-striped table-bordered table-condensed\">\n",
       "<thead><tr><th>MAG_AUTO(g)</th><th>MAG_AUTO(i)</th><th>m_tot(g)</th><th>m_tot(i)</th><th>PA</th></tr></thead>\n",
       "<thead><tr><th>float64</th><th>float64</th><th>float64</th><th>float64</th><th>float64</th></tr></thead>\n",
       "<tr><td>19.5564</td><td>19.2182</td><td>19.5335924106</td><td>19.1612041303</td><td>104.407</td></tr>\n",
       "</table>"
      ],
      "text/plain": [
       "<Table length=1>\n",
       "MAG_AUTO(g) MAG_AUTO(i)    m_tot(g)      m_tot(i)      PA  \n",
       "  float64     float64      float64       float64    float64\n",
       "----------- ----------- ------------- ------------- -------\n",
       "    19.5564     19.2182 19.5335924106 19.1612041303 104.407"
      ]
     },
     "execution_count": 22,
     "metadata": {},
     "output_type": "execute_result"
    }
   ],
   "source": [
    "sam[sam['hugs-id']==25]['MAG_AUTO(g)', 'MAG_AUTO(i)', 'm_tot(g)', 'm_tot(i)', 'PA']"
   ]
  },
  {
   "cell_type": "code",
   "execution_count": 13,
   "metadata": {
    "collapsed": false,
    "deletable": true,
    "editable": true,
    "scrolled": false
   },
   "outputs": [
    {
     "name": "stdout",
     "output_type": "stream",
     "text": [
      "hsc-hugs #125; coord = 14h01m53.9109s -01d20m34.4098s, mag_nuv = 19.9232\n"
     ]
    },
    {
     "data": {
      "text/html": [
       "<img style='width: 200px; height:200px;margin:0px; float: left; border: 5px solid black;'src='../../data/rgb-cutouts/sample-3-6-2017/candy-125.png' /><img style='width: 200px; height:200px;margin:0px; float: left; border: 5px solid black;'src='../../data/galex-cutouts/hugs-125_MIS.png' />"
      ],
      "text/plain": [
       "<IPython.core.display.HTML object>"
      ]
     },
     "metadata": {},
     "output_type": "display_data"
    },
    {
     "name": "stdout",
     "output_type": "stream",
     "text": [
      "hsc-hugs #115; coord = 11h59m43.5494s -00d46m21.6128s, mag_nuv = 20.13779\n"
     ]
    },
    {
     "data": {
      "text/html": [
       "<img style='width: 200px; height:200px;margin:0px; float: left; border: 5px solid black;'src='../../data/rgb-cutouts/sample-3-6-2017/candy-115.png' /><img style='width: 200px; height:200px;margin:0px; float: left; border: 5px solid black;'src='../../data/galex-cutouts/hugs-115_MIS.png' />"
      ],
      "text/plain": [
       "<IPython.core.display.HTML object>"
      ]
     },
     "metadata": {},
     "output_type": "display_data"
    },
    {
     "name": "stdout",
     "output_type": "stream",
     "text": [
      "hsc-hugs #118; coord = 12h04m55.5753s -00d41m44.1488s, mag_nuv = 20.35331\n"
     ]
    },
    {
     "data": {
      "text/html": [
       "<img style='width: 200px; height:200px;margin:0px; float: left; border: 5px solid black;'src='../../data/rgb-cutouts/sample-3-6-2017/candy-118.png' /><img style='width: 200px; height:200px;margin:0px; float: left; border: 5px solid black;'src='../../data/galex-cutouts/hugs-118_GII.png' />"
      ],
      "text/plain": [
       "<IPython.core.display.HTML object>"
      ]
     },
     "metadata": {},
     "output_type": "display_data"
    },
    {
     "name": "stdout",
     "output_type": "stream",
     "text": [
      "hsc-hugs #395; coord = 15h46m57.8886s +42d35m50.2155s, mag_nuv = 20.39625\n"
     ]
    },
    {
     "data": {
      "text/html": [
       "<img style='width: 200px; height:200px;margin:0px; float: left; border: 5px solid black;'src='../../data/rgb-cutouts/sample-3-6-2017/candy-395.png' /><img style='width: 200px; height:200px;margin:0px; float: left; border: 5px solid black;'src='../../data/galex-cutouts/hugs-395_MIS.png' />"
      ],
      "text/plain": [
       "<IPython.core.display.HTML object>"
      ]
     },
     "metadata": {},
     "output_type": "display_data"
    },
    {
     "name": "stdout",
     "output_type": "stream",
     "text": [
      "hsc-hugs #27; coord = 02h37m55.4872s -06d15m23.7057s, mag_nuv = 20.45533\n"
     ]
    },
    {
     "data": {
      "text/html": [
       "<img style='width: 200px; height:200px;margin:0px; float: left; border: 5px solid black;'src='../../data/rgb-cutouts/sample-3-6-2017/candy-27.png' /><img style='width: 200px; height:200px;margin:0px; float: left; border: 5px solid black;'src='../../data/galex-cutouts/hugs-27_NGS.png' />"
      ],
      "text/plain": [
       "<IPython.core.display.HTML object>"
      ]
     },
     "metadata": {},
     "output_type": "display_data"
    },
    {
     "name": "stdout",
     "output_type": "stream",
     "text": [
      "hsc-hugs #239; coord = 14h06m17.2952s +00d37m45.872s, mag_nuv = 20.8509\n"
     ]
    },
    {
     "data": {
      "text/html": [
       "<img style='width: 200px; height:200px;margin:0px; float: left; border: 5px solid black;'src='../../data/rgb-cutouts/sample-3-6-2017/candy-239.png' /><img style='width: 200px; height:200px;margin:0px; float: left; border: 5px solid black;'src='../../data/galex-cutouts/hugs-239_AIS.png' />"
      ],
      "text/plain": [
       "<IPython.core.display.HTML object>"
      ]
     },
     "metadata": {},
     "output_type": "display_data"
    },
    {
     "name": "stdout",
     "output_type": "stream",
     "text": [
      "hsc-hugs #68; coord = 02h33m31.0645s -04d08m56.5368s, mag_nuv = 20.96328\n"
     ]
    },
    {
     "data": {
      "text/html": [
       "<img style='width: 200px; height:200px;margin:0px; float: left; border: 5px solid black;'src='../../data/rgb-cutouts/sample-3-6-2017/candy-68.png' /><img style='width: 200px; height:200px;margin:0px; float: left; border: 5px solid black;'src='../../data/galex-cutouts/hugs-68_DIS.png' />"
      ],
      "text/plain": [
       "<IPython.core.display.HTML object>"
      ]
     },
     "metadata": {},
     "output_type": "display_data"
    },
    {
     "name": "stdout",
     "output_type": "stream",
     "text": [
      "hsc-hugs #25; coord = 02h29m17.0663s -06d24m57.6404s, mag_nuv = 20.96442\n"
     ]
    },
    {
     "data": {
      "text/html": [
       "<img style='width: 200px; height:200px;margin:0px; float: left; border: 5px solid black;'src='../../data/rgb-cutouts/sample-3-6-2017/candy-25.png' /><img style='width: 200px; height:200px;margin:0px; float: left; border: 5px solid black;'src='../../data/galex-cutouts/hugs-25_GII.png' />"
      ],
      "text/plain": [
       "<IPython.core.display.HTML object>"
      ]
     },
     "metadata": {},
     "output_type": "display_data"
    },
    {
     "name": "stdout",
     "output_type": "stream",
     "text": [
      "hsc-hugs #215; coord = 12h04m46.2387s +01d17m54.4267s, mag_nuv = 21.01833\n"
     ]
    },
    {
     "data": {
      "text/html": [
       "<img style='width: 200px; height:200px;margin:0px; float: left; border: 5px solid black;'src='../../data/rgb-cutouts/sample-3-6-2017/candy-215.png' /><img style='width: 200px; height:200px;margin:0px; float: left; border: 5px solid black;'src='../../data/galex-cutouts/hugs-215_GII.png' />"
      ],
      "text/plain": [
       "<IPython.core.display.HTML object>"
      ]
     },
     "metadata": {},
     "output_type": "display_data"
    },
    {
     "name": "stdout",
     "output_type": "stream",
     "text": [
      "hsc-hugs #405; coord = 16h12m45.6324s +42d47m41.3032s, mag_nuv = 21.1418\n"
     ]
    },
    {
     "data": {
      "text/html": [
       "<img style='width: 200px; height:200px;margin:0px; float: left; border: 5px solid black;'src='../../data/rgb-cutouts/sample-3-6-2017/candy-405.png' /><img style='width: 200px; height:200px;margin:0px; float: left; border: 5px solid black;'src='../../data/galex-cutouts/hugs-405_AIS.png' />"
      ],
      "text/plain": [
       "<IPython.core.display.HTML object>"
      ]
     },
     "metadata": {},
     "output_type": "display_data"
    },
    {
     "name": "stdout",
     "output_type": "stream",
     "text": [
      "hsc-hugs #127; coord = 13h58m51.5404s -00d53m27.7476s, mag_nuv = 21.15779\n"
     ]
    },
    {
     "data": {
      "text/html": [
       "<img style='width: 200px; height:200px;margin:0px; float: left; border: 5px solid black;'src='../../data/rgb-cutouts/sample-3-6-2017/candy-127.png' /><img style='width: 200px; height:200px;margin:0px; float: left; border: 5px solid black;'src='../../data/galex-cutouts/hugs-127_MIS.png' />"
      ],
      "text/plain": [
       "<IPython.core.display.HTML object>"
      ]
     },
     "metadata": {},
     "output_type": "display_data"
    },
    {
     "name": "stdout",
     "output_type": "stream",
     "text": [
      "hsc-hugs #230; coord = 12h08m07.0419s +00d52m04.4464s, mag_nuv = 21.46568\n"
     ]
    },
    {
     "data": {
      "text/html": [
       "<img style='width: 200px; height:200px;margin:0px; float: left; border: 5px solid black;'src='../../data/rgb-cutouts/sample-3-6-2017/candy-230.png' /><img style='width: 200px; height:200px;margin:0px; float: left; border: 5px solid black;'src='../../data/galex-cutouts/hugs-230_AIS.png' />"
      ],
      "text/plain": [
       "<IPython.core.display.HTML object>"
      ]
     },
     "metadata": {},
     "output_type": "display_data"
    },
    {
     "name": "stdout",
     "output_type": "stream",
     "text": [
      "hsc-hugs #146; coord = 14h44m29.2121s -00d07m06.5048s, mag_nuv = 21.47039\n"
     ]
    },
    {
     "data": {
      "text/html": [
       "<img style='width: 200px; height:200px;margin:0px; float: left; border: 5px solid black;'src='../../data/rgb-cutouts/sample-3-6-2017/candy-146.png' /><img style='width: 200px; height:200px;margin:0px; float: left; border: 5px solid black;'src='../../data/galex-cutouts/hugs-146_MIS.png' />"
      ],
      "text/plain": [
       "<IPython.core.display.HTML object>"
      ]
     },
     "metadata": {},
     "output_type": "display_data"
    },
    {
     "name": "stdout",
     "output_type": "stream",
     "text": [
      "hsc-hugs #64; coord = 02h30m16.9587s -04d12m55.438s, mag_nuv = 21.55024\n"
     ]
    },
    {
     "data": {
      "text/html": [
       "<img style='width: 200px; height:200px;margin:0px; float: left; border: 5px solid black;'src='../../data/rgb-cutouts/sample-3-6-2017/candy-64.png' /><img style='width: 200px; height:200px;margin:0px; float: left; border: 5px solid black;'src='../../data/galex-cutouts/hugs-64_DIS.png' />"
      ],
      "text/plain": [
       "<IPython.core.display.HTML object>"
      ]
     },
     "metadata": {},
     "output_type": "display_data"
    },
    {
     "name": "stdout",
     "output_type": "stream",
     "text": [
      "hsc-hugs #286; coord = 22h31m19.9565s +01d06m52.132s, mag_nuv = 21.5958\n"
     ]
    },
    {
     "data": {
      "text/html": [
       "<img style='width: 200px; height:200px;margin:0px; float: left; border: 5px solid black;'src='../../data/rgb-cutouts/sample-3-6-2017/candy-286.png' /><img style='width: 200px; height:200px;margin:0px; float: left; border: 5px solid black;'src='../../data/galex-cutouts/hugs-286_AIS.png' />"
      ],
      "text/plain": [
       "<IPython.core.display.HTML object>"
      ]
     },
     "metadata": {},
     "output_type": "display_data"
    },
    {
     "name": "stdout",
     "output_type": "stream",
     "text": [
      "hsc-hugs #351; coord = 22h09m42.4811s +01d43m51.5606s, mag_nuv = 21.63071\n"
     ]
    },
    {
     "data": {
      "text/html": [
       "<img style='width: 200px; height:200px;margin:0px; float: left; border: 5px solid black;'src='../../data/rgb-cutouts/sample-3-6-2017/candy-351.png' /><img style='width: 200px; height:200px;margin:0px; float: left; border: 5px solid black;'src='../../data/galex-cutouts/hugs-351_MIS.png' />"
      ],
      "text/plain": [
       "<IPython.core.display.HTML object>"
      ]
     },
     "metadata": {},
     "output_type": "display_data"
    },
    {
     "name": "stdout",
     "output_type": "stream",
     "text": [
      "hsc-hugs #139; coord = 14h20m04.9645s -00d26m09.1835s, mag_nuv = 21.78429\n"
     ]
    },
    {
     "data": {
      "text/html": [
       "<img style='width: 200px; height:200px;margin:0px; float: left; border: 5px solid black;'src='../../data/rgb-cutouts/sample-3-6-2017/candy-139.png' /><img style='width: 200px; height:200px;margin:0px; float: left; border: 5px solid black;'src='../../data/galex-cutouts/hugs-139_MIS.png' />"
      ],
      "text/plain": [
       "<IPython.core.display.HTML object>"
      ]
     },
     "metadata": {},
     "output_type": "display_data"
    },
    {
     "name": "stdout",
     "output_type": "stream",
     "text": [
      "hsc-hugs #138; coord = 14h21m01.052s -01d00m08.1118s, mag_nuv = 21.79939\n"
     ]
    },
    {
     "data": {
      "text/html": [
       "<img style='width: 200px; height:200px;margin:0px; float: left; border: 5px solid black;'src='../../data/rgb-cutouts/sample-3-6-2017/candy-138.png' /><img style='width: 200px; height:200px;margin:0px; float: left; border: 5px solid black;'src='../../data/galex-cutouts/hugs-138_MIS.png' />"
      ],
      "text/plain": [
       "<IPython.core.display.HTML object>"
      ]
     },
     "metadata": {},
     "output_type": "display_data"
    },
    {
     "name": "stdout",
     "output_type": "stream",
     "text": [
      "hsc-hugs #243; coord = 14h21m07.9092s +00d53m06.6133s, mag_nuv = 21.81045\n"
     ]
    },
    {
     "data": {
      "text/html": [
       "<img style='width: 200px; height:200px;margin:0px; float: left; border: 5px solid black;'src='../../data/rgb-cutouts/sample-3-6-2017/candy-243.png' /><img style='width: 200px; height:200px;margin:0px; float: left; border: 5px solid black;'src='../../data/galex-cutouts/hugs-243_MIS.png' />"
      ],
      "text/plain": [
       "<IPython.core.display.HTML object>"
      ]
     },
     "metadata": {},
     "output_type": "display_data"
    },
    {
     "name": "stdout",
     "output_type": "stream",
     "text": [
      "hsc-hugs #55; coord = 01h59m20.8973s -03d17m32.8883s, mag_nuv = 21.81247\n"
     ]
    },
    {
     "data": {
      "text/html": [
       "<img style='width: 200px; height:200px;margin:0px; float: left; border: 5px solid black;'src='../../data/rgb-cutouts/sample-3-6-2017/candy-55.png' /><img style='width: 200px; height:200px;margin:0px; float: left; border: 5px solid black;'src='../../data/galex-cutouts/hugs-55_AIS.png' />"
      ],
      "text/plain": [
       "<IPython.core.display.HTML object>"
      ]
     },
     "metadata": {},
     "output_type": "display_data"
    },
    {
     "name": "stdout",
     "output_type": "stream",
     "text": [
      "hsc-hugs #14; coord = 02h09m05.4797s -06d18m26.3145s, mag_nuv = 21.8211\n"
     ]
    },
    {
     "data": {
      "text/html": [
       "<img style='width: 200px; height:200px;margin:0px; float: left; border: 5px solid black;'src='../../data/rgb-cutouts/sample-3-6-2017/candy-14.png' /><img style='width: 200px; height:200px;margin:0px; float: left; border: 5px solid black;'src='../../data/galex-cutouts/hugs-14_GII.png' />"
      ],
      "text/plain": [
       "<IPython.core.display.HTML object>"
      ]
     },
     "metadata": {},
     "output_type": "display_data"
    },
    {
     "name": "stdout",
     "output_type": "stream",
     "text": [
      "hsc-hugs #76; coord = 02h10m31.6269s -02d52m34.8732s, mag_nuv = 21.83562\n"
     ]
    },
    {
     "data": {
      "text/html": [
       "<img style='width: 200px; height:200px;margin:0px; float: left; border: 5px solid black;'src='../../data/rgb-cutouts/sample-3-6-2017/candy-76.png' /><img style='width: 200px; height:200px;margin:0px; float: left; border: 5px solid black;'src='../../data/galex-cutouts/hugs-76_AIS.png' />"
      ],
      "text/plain": [
       "<IPython.core.display.HTML object>"
      ]
     },
     "metadata": {},
     "output_type": "display_data"
    },
    {
     "name": "stdout",
     "output_type": "stream",
     "text": [
      "hsc-hugs #238; coord = 14h06m40.0501s +00d08m50.7771s, mag_nuv = 21.874\n"
     ]
    },
    {
     "data": {
      "text/html": [
       "<img style='width: 200px; height:200px;margin:0px; float: left; border: 5px solid black;'src='../../data/rgb-cutouts/sample-3-6-2017/candy-238.png' /><img style='width: 200px; height:200px;margin:0px; float: left; border: 5px solid black;'src='../../data/galex-cutouts/hugs-238_MIS.png' />"
      ],
      "text/plain": [
       "<IPython.core.display.HTML object>"
      ]
     },
     "metadata": {},
     "output_type": "display_data"
    },
    {
     "name": "stdout",
     "output_type": "stream",
     "text": [
      "hsc-hugs #171; coord = 22h43m13.2885s -00d54m39.3306s, mag_nuv = 21.91069\n"
     ]
    },
    {
     "data": {
      "text/html": [
       "<img style='width: 200px; height:200px;margin:0px; float: left; border: 5px solid black;'src='../../data/rgb-cutouts/sample-3-6-2017/candy-171.png' /><img style='width: 200px; height:200px;margin:0px; float: left; border: 5px solid black;'src='../../data/galex-cutouts/hugs-171_MIS.png' />"
      ],
      "text/plain": [
       "<IPython.core.display.HTML object>"
      ]
     },
     "metadata": {},
     "output_type": "display_data"
    },
    {
     "name": "stdout",
     "output_type": "stream",
     "text": [
      "hsc-hugs #23; coord = 02h24m59.2378s -06d40m07.9472s, mag_nuv = 21.92147\n"
     ]
    },
    {
     "data": {
      "text/html": [
       "<img style='width: 200px; height:200px;margin:0px; float: left; border: 5px solid black;'src='../../data/rgb-cutouts/sample-3-6-2017/candy-23.png' /><img style='width: 200px; height:200px;margin:0px; float: left; border: 5px solid black;'src='../../data/galex-cutouts/hugs-23_GII.png' />"
      ],
      "text/plain": [
       "<IPython.core.display.HTML object>"
      ]
     },
     "metadata": {},
     "output_type": "display_data"
    },
    {
     "name": "stdout",
     "output_type": "stream",
     "text": [
      "hsc-hugs #119; coord = 12h01m25.5433s -00d18m46.2785s, mag_nuv = 22.02215\n"
     ]
    },
    {
     "data": {
      "text/html": [
       "<img style='width: 200px; height:200px;margin:0px; float: left; border: 5px solid black;'src='../../data/rgb-cutouts/sample-3-6-2017/candy-119.png' /><img style='width: 200px; height:200px;margin:0px; float: left; border: 5px solid black;'src='../../data/galex-cutouts/hugs-119_GII.png' />"
      ],
      "text/plain": [
       "<IPython.core.display.HTML object>"
      ]
     },
     "metadata": {},
     "output_type": "display_data"
    },
    {
     "name": "stdout",
     "output_type": "stream",
     "text": [
      "hsc-hugs #173; coord = 22h40m13.1805s -00d57m00.8553s, mag_nuv = 22.02698\n"
     ]
    },
    {
     "data": {
      "text/html": [
       "<img style='width: 200px; height:200px;margin:0px; float: left; border: 5px solid black;'src='../../data/rgb-cutouts/sample-3-6-2017/candy-173.png' /><img style='width: 200px; height:200px;margin:0px; float: left; border: 5px solid black;'src='../../data/galex-cutouts/hugs-173_MIS.png' />"
      ],
      "text/plain": [
       "<IPython.core.display.HTML object>"
      ]
     },
     "metadata": {},
     "output_type": "display_data"
    },
    {
     "name": "stdout",
     "output_type": "stream",
     "text": [
      "hsc-hugs #416; coord = 15h48m10.479s +43d09m24.9946s, mag_nuv = 22.11093\n"
     ]
    },
    {
     "data": {
      "text/html": [
       "<img style='width: 200px; height:200px;margin:0px; float: left; border: 5px solid black;'src='../../data/rgb-cutouts/sample-3-6-2017/candy-416.png' /><img style='width: 200px; height:200px;margin:0px; float: left; border: 5px solid black;'src='../../data/galex-cutouts/hugs-416_MIS.png' />"
      ],
      "text/plain": [
       "<IPython.core.display.HTML object>"
      ]
     },
     "metadata": {},
     "output_type": "display_data"
    },
    {
     "name": "stdout",
     "output_type": "stream",
     "text": [
      "hsc-hugs #39; coord = 01h56m23.6731s -04d39m22.5974s, mag_nuv = 22.15023\n"
     ]
    },
    {
     "data": {
      "text/html": [
       "<img style='width: 200px; height:200px;margin:0px; float: left; border: 5px solid black;'src='../../data/rgb-cutouts/sample-3-6-2017/candy-39.png' /><img style='width: 200px; height:200px;margin:0px; float: left; border: 5px solid black;'src='../../data/galex-cutouts/hugs-39_AIS.png' />"
      ],
      "text/plain": [
       "<IPython.core.display.HTML object>"
      ]
     },
     "metadata": {},
     "output_type": "display_data"
    },
    {
     "name": "stdout",
     "output_type": "stream",
     "text": [
      "hsc-hugs #237; coord = 14h09m59.7801s +01d28m12.1339s, mag_nuv = 22.21761\n"
     ]
    },
    {
     "data": {
      "text/html": [
       "<img style='width: 200px; height:200px;margin:0px; float: left; border: 5px solid black;'src='../../data/rgb-cutouts/sample-3-6-2017/candy-237.png' /><img style='width: 200px; height:200px;margin:0px; float: left; border: 5px solid black;'src='../../data/galex-cutouts/hugs-237_MIS.png' />"
      ],
      "text/plain": [
       "<IPython.core.display.HTML object>"
      ]
     },
     "metadata": {},
     "output_type": "display_data"
    },
    {
     "name": "stdout",
     "output_type": "stream",
     "text": [
      "hsc-hugs #255; coord = 14h43m24.0774s +00d57m04.5076s, mag_nuv = 22.24211\n"
     ]
    },
    {
     "data": {
      "text/html": [
       "<img style='width: 200px; height:200px;margin:0px; float: left; border: 5px solid black;'src='../../data/rgb-cutouts/sample-3-6-2017/candy-255.png' /><img style='width: 200px; height:200px;margin:0px; float: left; border: 5px solid black;'src='../../data/galex-cutouts/hugs-255_MIS.png' />"
      ],
      "text/plain": [
       "<IPython.core.display.HTML object>"
      ]
     },
     "metadata": {},
     "output_type": "display_data"
    },
    {
     "name": "stdout",
     "output_type": "stream",
     "text": [
      "hsc-hugs #22; coord = 02h14m22.002s -06d48m19.0494s, mag_nuv = 22.2538\n"
     ]
    },
    {
     "data": {
      "text/html": [
       "<img style='width: 200px; height:200px;margin:0px; float: left; border: 5px solid black;'src='../../data/rgb-cutouts/sample-3-6-2017/candy-22.png' /><img style='width: 200px; height:200px;margin:0px; float: left; border: 5px solid black;'src='../../data/galex-cutouts/hugs-22_AIS.png' />"
      ],
      "text/plain": [
       "<IPython.core.display.HTML object>"
      ]
     },
     "metadata": {},
     "output_type": "display_data"
    },
    {
     "name": "stdout",
     "output_type": "stream",
     "text": [
      "hsc-hugs #236; coord = 13h59m36.6016s +00d47m30.4796s, mag_nuv = 22.33725\n"
     ]
    },
    {
     "data": {
      "text/html": [
       "<img style='width: 200px; height:200px;margin:0px; float: left; border: 5px solid black;'src='../../data/rgb-cutouts/sample-3-6-2017/candy-236.png' /><img style='width: 200px; height:200px;margin:0px; float: left; border: 5px solid black;'src='../../data/galex-cutouts/hugs-236_MIS.png' />"
      ],
      "text/plain": [
       "<IPython.core.display.HTML object>"
      ]
     },
     "metadata": {},
     "output_type": "display_data"
    },
    {
     "name": "stdout",
     "output_type": "stream",
     "text": [
      "hsc-hugs #38; coord = 01h56m28.8898s -05d37m40.5824s, mag_nuv = 22.40771\n"
     ]
    },
    {
     "data": {
      "text/html": [
       "<img style='width: 200px; height:200px;margin:0px; float: left; border: 5px solid black;'src='../../data/rgb-cutouts/sample-3-6-2017/candy-38.png' /><img style='width: 200px; height:200px;margin:0px; float: left; border: 5px solid black;'src='../../data/galex-cutouts/hugs-38_AIS.png' />"
      ],
      "text/plain": [
       "<IPython.core.display.HTML object>"
      ]
     },
     "metadata": {},
     "output_type": "display_data"
    },
    {
     "name": "stdout",
     "output_type": "stream",
     "text": [
      "hsc-hugs #48; coord = 02h21m15.6809s -05d32m20.2699s, mag_nuv = 22.43702\n"
     ]
    },
    {
     "data": {
      "text/html": [
       "<img style='width: 200px; height:200px;margin:0px; float: left; border: 5px solid black;'src='../../data/rgb-cutouts/sample-3-6-2017/candy-48.png' /><img style='width: 200px; height:200px;margin:0px; float: left; border: 5px solid black;'src='../../data/galex-cutouts/hugs-48_DIS.png' />"
      ],
      "text/plain": [
       "<IPython.core.display.HTML object>"
      ]
     },
     "metadata": {},
     "output_type": "display_data"
    },
    {
     "name": "stdout",
     "output_type": "stream",
     "text": [
      "hsc-hugs #305; coord = 22h54m00.2064s +00d17m23.0702s, mag_nuv = 22.57364\n"
     ]
    },
    {
     "data": {
      "text/html": [
       "<img style='width: 200px; height:200px;margin:0px; float: left; border: 5px solid black;'src='../../data/rgb-cutouts/sample-3-6-2017/candy-305.png' /><img style='width: 200px; height:200px;margin:0px; float: left; border: 5px solid black;'src='../../data/galex-cutouts/hugs-305_MIS.png' />"
      ],
      "text/plain": [
       "<IPython.core.display.HTML object>"
      ]
     },
     "metadata": {},
     "output_type": "display_data"
    },
    {
     "name": "stdout",
     "output_type": "stream",
     "text": [
      "hsc-hugs #158; coord = 22h08m51.6822s -01d11m54.472s, mag_nuv = 22.60622\n"
     ]
    },
    {
     "data": {
      "text/html": [
       "<img style='width: 200px; height:200px;margin:0px; float: left; border: 5px solid black;'src='../../data/rgb-cutouts/sample-3-6-2017/candy-158.png' /><img style='width: 200px; height:200px;margin:0px; float: left; border: 5px solid black;'src='../../data/galex-cutouts/hugs-158_MIS.png' />"
      ],
      "text/plain": [
       "<IPython.core.display.HTML object>"
      ]
     },
     "metadata": {},
     "output_type": "display_data"
    },
    {
     "name": "stdout",
     "output_type": "stream",
     "text": [
      "hsc-hugs #212; coord = 11h55m50.809s +00d04m53.6635s, mag_nuv = 22.69895\n"
     ]
    },
    {
     "data": {
      "text/html": [
       "<img style='width: 200px; height:200px;margin:0px; float: left; border: 5px solid black;'src='../../data/rgb-cutouts/sample-3-6-2017/candy-212.png' /><img style='width: 200px; height:200px;margin:0px; float: left; border: 5px solid black;'src='../../data/galex-cutouts/hugs-212_GII.png' />"
      ],
      "text/plain": [
       "<IPython.core.display.HTML object>"
      ]
     },
     "metadata": {},
     "output_type": "display_data"
    },
    {
     "name": "stdout",
     "output_type": "stream",
     "text": [
      "hsc-hugs #33; coord = 02h38m46.8091s -06d14m11.7995s, mag_nuv = 22.71778\n"
     ]
    },
    {
     "data": {
      "text/html": [
       "<img style='width: 200px; height:200px;margin:0px; float: left; border: 5px solid black;'src='../../data/rgb-cutouts/sample-3-6-2017/candy-33.png' /><img style='width: 200px; height:200px;margin:0px; float: left; border: 5px solid black;'src='../../data/galex-cutouts/hugs-33_GII.png' />"
      ],
      "text/plain": [
       "<IPython.core.display.HTML object>"
      ]
     },
     "metadata": {},
     "output_type": "display_data"
    },
    {
     "name": "stdout",
     "output_type": "stream",
     "text": [
      "hsc-hugs #5; coord = 02h05m27.8468s -06d18m06.092s, mag_nuv = 22.85996\n"
     ]
    },
    {
     "data": {
      "text/html": [
       "<img style='width: 200px; height:200px;margin:0px; float: left; border: 5px solid black;'src='../../data/rgb-cutouts/sample-3-6-2017/candy-5.png' /><img style='width: 200px; height:200px;margin:0px; float: left; border: 5px solid black;'src='../../data/galex-cutouts/hugs-5_GII.png' />"
      ],
      "text/plain": [
       "<IPython.core.display.HTML object>"
      ]
     },
     "metadata": {},
     "output_type": "display_data"
    },
    {
     "name": "stdout",
     "output_type": "stream",
     "text": [
      "hsc-hugs #21; coord = 02h15m16.5527s -06d25m26.688s, mag_nuv = 22.88807\n"
     ]
    },
    {
     "data": {
      "text/html": [
       "<img style='width: 200px; height:200px;margin:0px; float: left; border: 5px solid black;'src='../../data/rgb-cutouts/sample-3-6-2017/candy-21.png' /><img style='width: 200px; height:200px;margin:0px; float: left; border: 5px solid black;'src='../../data/galex-cutouts/hugs-21_GII.png' />"
      ],
      "text/plain": [
       "<IPython.core.display.HTML object>"
      ]
     },
     "metadata": {},
     "output_type": "display_data"
    },
    {
     "name": "stdout",
     "output_type": "stream",
     "text": [
      "hsc-hugs #37; coord = 02h00m04.911s -05d18m21.8438s, mag_nuv = 22.90967\n"
     ]
    },
    {
     "data": {
      "text/html": [
       "<img style='width: 200px; height:200px;margin:0px; float: left; border: 5px solid black;'src='../../data/rgb-cutouts/sample-3-6-2017/candy-37.png' /><img style='width: 200px; height:200px;margin:0px; float: left; border: 5px solid black;'src='../../data/galex-cutouts/hugs-37_GII.png' />"
      ],
      "text/plain": [
       "<IPython.core.display.HTML object>"
      ]
     },
     "metadata": {},
     "output_type": "display_data"
    },
    {
     "name": "stdout",
     "output_type": "stream",
     "text": [
      "hsc-hugs #19; coord = 02h18m48.8617s -06d45m55.4001s, mag_nuv = 23.0279\n"
     ]
    },
    {
     "data": {
      "text/html": [
       "<img style='width: 200px; height:200px;margin:0px; float: left; border: 5px solid black;'src='../../data/rgb-cutouts/sample-3-6-2017/candy-19.png' /><img style='width: 200px; height:200px;margin:0px; float: left; border: 5px solid black;'src='../../data/galex-cutouts/hugs-19_DIS.png' />"
      ],
      "text/plain": [
       "<IPython.core.display.HTML object>"
      ]
     },
     "metadata": {},
     "output_type": "display_data"
    },
    {
     "name": "stdout",
     "output_type": "stream",
     "text": [
      "hsc-hugs #409; coord = 16h19m05.6435s +41d58m16.5886s, mag_nuv = 23.03486\n"
     ]
    },
    {
     "data": {
      "text/html": [
       "<img style='width: 200px; height:200px;margin:0px; float: left; border: 5px solid black;'src='../../data/rgb-cutouts/sample-3-6-2017/candy-409.png' /><img style='width: 200px; height:200px;margin:0px; float: left; border: 5px solid black;'src='../../data/galex-cutouts/hugs-409_MIS.png' />"
      ],
      "text/plain": [
       "<IPython.core.display.HTML object>"
      ]
     },
     "metadata": {},
     "output_type": "display_data"
    },
    {
     "name": "stdout",
     "output_type": "stream",
     "text": [
      "hsc-hugs #61; coord = 02h25m50.4472s -04d24m07.5247s, mag_nuv = 23.10913\n"
     ]
    },
    {
     "data": {
      "text/html": [
       "<img style='width: 200px; height:200px;margin:0px; float: left; border: 5px solid black;'src='../../data/rgb-cutouts/sample-3-6-2017/candy-61.png' /><img style='width: 200px; height:200px;margin:0px; float: left; border: 5px solid black;'src='../../data/galex-cutouts/hugs-61_DIS.png' />"
      ],
      "text/plain": [
       "<IPython.core.display.HTML object>"
      ]
     },
     "metadata": {},
     "output_type": "display_data"
    },
    {
     "name": "stdout",
     "output_type": "stream",
     "text": [
      "hsc-hugs #122; coord = 14h04m41.9593s -01d22m27.1416s, mag_nuv = 23.17028\n"
     ]
    },
    {
     "data": {
      "text/html": [
       "<img style='width: 200px; height:200px;margin:0px; float: left; border: 5px solid black;'src='../../data/rgb-cutouts/sample-3-6-2017/candy-122.png' /><img style='width: 200px; height:200px;margin:0px; float: left; border: 5px solid black;'src='../../data/galex-cutouts/hugs-122_MIS.png' />"
      ],
      "text/plain": [
       "<IPython.core.display.HTML object>"
      ]
     },
     "metadata": {},
     "output_type": "display_data"
    },
    {
     "name": "stdout",
     "output_type": "stream",
     "text": [
      "hsc-hugs #290; coord = 22h37m16.466s +01d07m49.5925s, mag_nuv = 23.25718\n"
     ]
    },
    {
     "data": {
      "text/html": [
       "<img style='width: 200px; height:200px;margin:0px; float: left; border: 5px solid black;'src='../../data/rgb-cutouts/sample-3-6-2017/candy-290.png' /><img style='width: 200px; height:200px;margin:0px; float: left; border: 5px solid black;'src='../../data/galex-cutouts/hugs-290_MIS.png' />"
      ],
      "text/plain": [
       "<IPython.core.display.HTML object>"
      ]
     },
     "metadata": {},
     "output_type": "display_data"
    },
    {
     "name": "stdout",
     "output_type": "stream",
     "text": [
      "hsc-hugs #0; coord = 02h00m51.5667s -06d57m11.2844s, mag_nuv = 23.37741\n"
     ]
    },
    {
     "data": {
      "text/html": [
       "<img style='width: 200px; height:200px;margin:0px; float: left; border: 5px solid black;'src='../../data/rgb-cutouts/sample-3-6-2017/candy-0.png' /><img style='width: 200px; height:200px;margin:0px; float: left; border: 5px solid black;'src='../../data/galex-cutouts/hugs-0_GII.png' />"
      ],
      "text/plain": [
       "<IPython.core.display.HTML object>"
      ]
     },
     "metadata": {},
     "output_type": "display_data"
    },
    {
     "name": "stdout",
     "output_type": "stream",
     "text": [
      "hsc-hugs #20; coord = 02h18m34.6388s -06d12m32.1001s, mag_nuv = 23.45038\n"
     ]
    },
    {
     "data": {
      "text/html": [
       "<img style='width: 200px; height:200px;margin:0px; float: left; border: 5px solid black;'src='../../data/rgb-cutouts/sample-3-6-2017/candy-20.png' /><img style='width: 200px; height:200px;margin:0px; float: left; border: 5px solid black;'src='../../data/galex-cutouts/hugs-20_DIS.png' />"
      ],
      "text/plain": [
       "<IPython.core.display.HTML object>"
      ]
     },
     "metadata": {},
     "output_type": "display_data"
    },
    {
     "name": "stdout",
     "output_type": "stream",
     "text": [
      "hsc-hugs #43; coord = 02h10m21.1216s -05d58m12.5274s, mag_nuv = 23.47296\n"
     ]
    },
    {
     "data": {
      "text/html": [
       "<img style='width: 200px; height:200px;margin:0px; float: left; border: 5px solid black;'src='../../data/rgb-cutouts/sample-3-6-2017/candy-43.png' /><img style='width: 200px; height:200px;margin:0px; float: left; border: 5px solid black;'src='../../data/galex-cutouts/hugs-43_GII.png' />"
      ],
      "text/plain": [
       "<IPython.core.display.HTML object>"
      ]
     },
     "metadata": {},
     "output_type": "display_data"
    },
    {
     "name": "stdout",
     "output_type": "stream",
     "text": [
      "hsc-hugs #10; coord = 02h11m19.0283s -06d28m13.6598s, mag_nuv = 23.47447\n"
     ]
    },
    {
     "data": {
      "text/html": [
       "<img style='width: 200px; height:200px;margin:0px; float: left; border: 5px solid black;'src='../../data/rgb-cutouts/sample-3-6-2017/candy-10.png' /><img style='width: 200px; height:200px;margin:0px; float: left; border: 5px solid black;'src='../../data/galex-cutouts/hugs-10_GII.png' />"
      ],
      "text/plain": [
       "<IPython.core.display.HTML object>"
      ]
     },
     "metadata": {},
     "output_type": "display_data"
    },
    {
     "name": "stdout",
     "output_type": "stream",
     "text": [
      "hsc-hugs #216; coord = 12h04m07.8421s +01d19m17.4735s, mag_nuv = 23.49888\n"
     ]
    },
    {
     "data": {
      "text/html": [
       "<img style='width: 200px; height:200px;margin:0px; float: left; border: 5px solid black;'src='../../data/rgb-cutouts/sample-3-6-2017/candy-216.png' /><img style='width: 200px; height:200px;margin:0px; float: left; border: 5px solid black;'src='../../data/galex-cutouts/hugs-216_GII.png' />"
      ],
      "text/plain": [
       "<IPython.core.display.HTML object>"
      ]
     },
     "metadata": {},
     "output_type": "display_data"
    },
    {
     "name": "stdout",
     "output_type": "stream",
     "text": [
      "hsc-hugs #82; coord = 02h22m02.7238s -02d39m02.7584s, mag_nuv = 23.54897\n"
     ]
    },
    {
     "data": {
      "text/html": [
       "<img style='width: 200px; height:200px;margin:0px; float: left; border: 5px solid black;'src='../../data/rgb-cutouts/sample-3-6-2017/candy-82.png' /><img style='width: 200px; height:200px;margin:0px; float: left; border: 5px solid black;'src='../../data/galex-cutouts/hugs-82_DIS.png' />"
      ],
      "text/plain": [
       "<IPython.core.display.HTML object>"
      ]
     },
     "metadata": {},
     "output_type": "display_data"
    },
    {
     "name": "stdout",
     "output_type": "stream",
     "text": [
      "hsc-hugs #117; coord = 11h57m29.688s -01d16m04.4533s, mag_nuv = 23.63975\n"
     ]
    },
    {
     "data": {
      "text/html": [
       "<img style='width: 200px; height:200px;margin:0px; float: left; border: 5px solid black;'src='../../data/rgb-cutouts/sample-3-6-2017/candy-117.png' /><img style='width: 200px; height:200px;margin:0px; float: left; border: 5px solid black;'src='../../data/galex-cutouts/hugs-117_MIS.png' />"
      ],
      "text/plain": [
       "<IPython.core.display.HTML object>"
      ]
     },
     "metadata": {},
     "output_type": "display_data"
    },
    {
     "name": "stdout",
     "output_type": "stream",
     "text": [
      "hsc-hugs #280; coord = 22h18m19.7674s +01d14m50.1088s, mag_nuv = 23.64686\n"
     ]
    },
    {
     "data": {
      "text/html": [
       "<img style='width: 200px; height:200px;margin:0px; float: left; border: 5px solid black;'src='../../data/rgb-cutouts/sample-3-6-2017/candy-280.png' /><img style='width: 200px; height:200px;margin:0px; float: left; border: 5px solid black;'src='../../data/galex-cutouts/hugs-280_DIS.png' />"
      ],
      "text/plain": [
       "<IPython.core.display.HTML object>"
      ]
     },
     "metadata": {},
     "output_type": "display_data"
    },
    {
     "name": "stdout",
     "output_type": "stream",
     "text": [
      "hsc-hugs #258; coord = 14h39m50.8786s +00d21m11.0138s, mag_nuv = 23.79876\n"
     ]
    },
    {
     "data": {
      "text/html": [
       "<img style='width: 200px; height:200px;margin:0px; float: left; border: 5px solid black;'src='../../data/rgb-cutouts/sample-3-6-2017/candy-258.png' /><img style='width: 200px; height:200px;margin:0px; float: left; border: 5px solid black;'src='../../data/galex-cutouts/hugs-258_MIS.png' />"
      ],
      "text/plain": [
       "<IPython.core.display.HTML object>"
      ]
     },
     "metadata": {},
     "output_type": "display_data"
    },
    {
     "name": "stdout",
     "output_type": "stream",
     "text": [
      "hsc-hugs #24; coord = 02h20m03.9902s -06d34m31.621s, mag_nuv = 23.95457\n"
     ]
    },
    {
     "data": {
      "text/html": [
       "<img style='width: 200px; height:200px;margin:0px; float: left; border: 5px solid black;'src='../../data/rgb-cutouts/sample-3-6-2017/candy-24.png' /><img style='width: 200px; height:200px;margin:0px; float: left; border: 5px solid black;'src='../../data/galex-cutouts/hugs-24_DIS.png' />"
      ],
      "text/plain": [
       "<IPython.core.display.HTML object>"
      ]
     },
     "metadata": {},
     "output_type": "display_data"
    },
    {
     "name": "stdout",
     "output_type": "stream",
     "text": [
      "hsc-hugs #355; coord = 22h11m47.3087s +02d46m16.5631s, mag_nuv = 24.10907\n"
     ]
    },
    {
     "data": {
      "text/html": [
       "<img style='width: 200px; height:200px;margin:0px; float: left; border: 5px solid black;'src='../../data/rgb-cutouts/sample-3-6-2017/candy-355.png' /><img style='width: 200px; height:200px;margin:0px; float: left; border: 5px solid black;'src='../../data/galex-cutouts/hugs-355_GII.png' />"
      ],
      "text/plain": [
       "<IPython.core.display.HTML object>"
      ]
     },
     "metadata": {},
     "output_type": "display_data"
    },
    {
     "name": "stdout",
     "output_type": "stream",
     "text": [
      "hsc-hugs #47; coord = 02h21m47.7618s -05d39m01.1394s, mag_nuv = 24.4185\n"
     ]
    },
    {
     "data": {
      "text/html": [
       "<img style='width: 200px; height:200px;margin:0px; float: left; border: 5px solid black;'src='../../data/rgb-cutouts/sample-3-6-2017/candy-47.png' /><img style='width: 200px; height:200px;margin:0px; float: left; border: 5px solid black;'src='../../data/galex-cutouts/hugs-47_DIS.png' />"
      ],
      "text/plain": [
       "<IPython.core.display.HTML object>"
      ]
     },
     "metadata": {},
     "output_type": "display_data"
    }
   ],
   "source": [
    "size = 200\n",
    "for obj in galex:\n",
    "    hid = obj['hugs-id']\n",
    "    sc = SkyCoord(obj['ra'], obj['dec'], unit='deg')\n",
    "    print('hsc-hugs #{}; coord = {}, mag_nuv = {}'.format(hid, sc.to_string('hmsdms'), obj['nuv_mag']))\n",
    "    hhana.nbtools.display_galex_compare(hid, size=size, survey=obj['survey'])"
   ]
  },
  {
   "cell_type": "code",
   "execution_count": 14,
   "metadata": {
    "collapsed": false,
    "deletable": true,
    "editable": true
   },
   "outputs": [
    {
     "name": "stdout",
     "output_type": "stream",
     "text": [
      "hours restricted to 187.5 90 hours\n"
     ]
    }
   ],
   "source": [
    "print('hours restricted to', 12.5*15, 6*15, 'hours')"
   ]
  },
  {
   "cell_type": "code",
   "execution_count": 6,
   "metadata": {
    "collapsed": false,
    "deletable": true,
    "editable": true
   },
   "outputs": [],
   "source": [
    "if False:\n",
    "    region = 4\n",
    "    sam_reg = sam.copy()\n",
    "    sam_reg.cat = sam_reg[galex_hugs_ids['MIS']]\n",
    "    sam_reg.cat = sam_reg[sam_reg['region']==region]\n",
    "    sam_reg.cat = sam_reg[sam_reg['FLUX_RADIUS(i)']>3.0/0.168]\n",
    "    fig, ax = hhana.plot.circles_on_region(sam_big[sam_big['region']==region], \n",
    "                                           fp=footprints[region].cat, sam_kws={'c':'r'})\n",
    "    hhana.plot.circles_on_region(sam_reg, subplots=(fig, ax), sam_kws={'c':'b'});"
   ]
  },
  {
   "cell_type": "code",
   "execution_count": 10,
   "metadata": {
    "collapsed": true,
    "deletable": true,
    "editable": true
   },
   "outputs": [],
   "source": [
    "proposed_hugs_ids = dict(\n",
    "    MIS=[138, 139, 146, 243, 115, 173, 158, 125],\n",
    "    GII=[118, 212, 119, 230, 215],\n",
    "    NGS=[27]\n",
    ")"
   ]
  },
  {
   "cell_type": "code",
   "execution_count": null,
   "metadata": {
    "collapsed": false,
    "deletable": true,
    "editable": true,
    "scrolled": false
   },
   "outputs": [],
   "source": [
    "surveys = ['MIS', 'GII', 'NGS']\n",
    "size = 200\n",
    "for survey in surveys:\n",
    "    for hid in proposed_hugs_ids[survey]:\n",
    "        print('hsc-hugs #{}'.format(hid))\n",
    "        hhana.nbtools.display_galex_compare(hid, size=size, survey=survey)"
   ]
  },
  {
   "cell_type": "code",
   "execution_count": 11,
   "metadata": {
    "collapsed": true,
    "deletable": true,
    "editable": true
   },
   "outputs": [],
   "source": [
    "def difference_matrix(a):\n",
    "    x = np.reshape(a, (len(a), 1))\n",
    "    return x - x.transpose()"
   ]
  },
  {
   "cell_type": "code",
   "execution_count": null,
   "metadata": {
    "collapsed": false,
    "deletable": true,
    "editable": true
   },
   "outputs": [],
   "source": [
    "match = Table()\n",
    "max_diffs = []\n",
    "for hid in proposed_hugs_ids['GII']:\n",
    "    match = vstack([match, galex[galex['hugs-id']==hid].copy()])\n",
    "    nuv = galex[galex['hugs-id']==hid]['nuv_mag']\n",
    "    max_diffs.append(difference_matrix(nuv).max())\n",
    "    print(hid,difference_matrix(nuv).max())\n",
    "plt.hist(max_diffs);"
   ]
  },
  {
   "cell_type": "code",
   "execution_count": 11,
   "metadata": {
    "collapsed": false,
    "deletable": true,
    "editable": true
   },
   "outputs": [],
   "source": [
    "galex_unique = get_unique(galex.copy())\n",
    "galex_unique = join(galex_unique, sam.cat, keys='hugs-id')\n",
    "match = Table()\n",
    "for row in proposed_hugs_ids.values():\n",
    "    for hid in row:\n",
    "        match = vstack([match, galex_unique[galex_unique['hugs-id']==hid].copy()])"
   ]
  },
  {
   "cell_type": "code",
   "execution_count": 32,
   "metadata": {
    "collapsed": false,
    "deletable": true,
    "editable": true
   },
   "outputs": [],
   "source": [
    "cols = ['hugs-id','MatchRA', 'MatchDEC', 'nuv_mag', 'nuv_magerr', 'm_tot(g)', \n",
    "        'mu_aper_0(g)', 'm_tot(i)', 'mu_aper_0(i)', 'survey']\n",
    "match_pd = match[cols].to_pandas()"
   ]
  },
  {
   "cell_type": "code",
   "execution_count": 34,
   "metadata": {
    "collapsed": true,
    "deletable": true,
    "editable": true
   },
   "outputs": [],
   "source": [
    "match_pd.to_csv('/Users/protostar/Desktop/gemini-ft-sample.csv', index=False)"
   ]
  }
 ],
 "metadata": {
  "kernelspec": {
   "display_name": "Python [conda env:py35]",
   "language": "python",
   "name": "conda-env-py35-py"
  },
  "language_info": {
   "codemirror_mode": {
    "name": "ipython",
    "version": 3
   },
   "file_extension": ".py",
   "mimetype": "text/x-python",
   "name": "python",
   "nbconvert_exporter": "python",
   "pygments_lexer": "ipython3",
   "version": "3.5.1"
  }
 },
 "nbformat": 4,
 "nbformat_minor": 2
}
