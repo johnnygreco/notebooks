{
 "cells": [
  {
   "cell_type": "code",
   "execution_count": 1,
   "metadata": {
    "collapsed": true,
    "deletable": true,
    "editable": true
   },
   "outputs": [],
   "source": [
    "%matplotlib inline\n",
    "import numpy as np\n",
    "import pandas as pd\n",
    "import matplotlib.pyplot as plt\n",
    "import hdgal\n",
    "plt.style.use('../../hsc-diffuse-galaxies/notebooks/jpg.mplstyle')"
   ]
  },
  {
   "cell_type": "code",
   "execution_count": 2,
   "metadata": {
    "collapsed": true,
    "deletable": true,
    "editable": true
   },
   "outputs": [],
   "source": [
    "galex = pd.read_csv('../../hsc-diffuse-galaxies/paper/table-1-data/tab-1-galex.csv')\n",
    "galex['id'] = [int(i.split('-')[-1]) for i in galex['id']]\n",
    "galex.set_index('id', drop=True, inplace=True)\n",
    "\n",
    "cat = pd.read_csv('../../hsc-diffuse-galaxies/data/final-sample/hsc-lsbg-final-cat.csv')\n",
    "cat.drop('id', axis=1, inplace=True)\n",
    "cat.rename(columns={'cat-id':'id'}, inplace=True)\n",
    "cat.set_index('id', drop=True, inplace=True)"
   ]
  },
  {
   "cell_type": "code",
   "execution_count": 3,
   "metadata": {
    "collapsed": true,
    "deletable": true,
    "editable": true
   },
   "outputs": [],
   "source": [
    "cat['ra_hr'] = cat['ra']/15.0\n",
    "galex['ra_hr'] = galex['ra']/15.0"
   ]
  },
  {
   "cell_type": "code",
   "execution_count": 4,
   "metadata": {
    "collapsed": true,
    "deletable": true,
    "editable": true
   },
   "outputs": [],
   "source": [
    "viz_cut = (galex.ra_hr > 4.0) | (galex.ra_hr < 1.0)"
   ]
  },
  {
   "cell_type": "code",
   "execution_count": 5,
   "metadata": {
    "collapsed": false,
    "deletable": true,
    "editable": true
   },
   "outputs": [
    {
     "data": {
      "image/png": "[encoded data removed]",
      "text/plain": [
       "<matplotlib.figure.Figure at 0x10f67b3c8>"
      ]
     },
     "metadata": {},
     "output_type": "display_data"
    }
   ],
   "source": [
    "plt.hist(galex.ra_hr, range=[0,24], histtype='step', ls='--', lw=3, bins='auto')\n",
    "plt.xlabel('ra [hr]')\n",
    "plt.axvline(x=4, c='r')\n",
    "plt.axvline(x=1, c='r');"
   ]
  },
  {
   "cell_type": "code",
   "execution_count": 6,
   "metadata": {
    "collapsed": true,
    "deletable": true,
    "editable": true
   },
   "outputs": [],
   "source": [
    "targets = galex.loc[viz_cut].copy()\n",
    "targets = targets.join(cat, how='left', rsuffix='cat_').copy()"
   ]
  },
  {
   "cell_type": "code",
   "execution_count": 7,
   "metadata": {
    "collapsed": false,
    "deletable": true,
    "editable": true
   },
   "outputs": [
    {
     "data": {
      "image/png": "[encoded data removed]",
      "text/plain": [
       "<matplotlib.figure.Figure at 0x10f66d780>"
      ]
     },
     "metadata": {},
     "output_type": "display_data"
    }
   ],
   "source": [
    "targets.nuv.hist();"
   ]
  },
  {
   "cell_type": "code",
   "execution_count": 8,
   "metadata": {
    "collapsed": false,
    "deletable": true,
    "editable": true
   },
   "outputs": [
    {
     "data": {
      "image/png": "[encoded data removed]",
      "text/plain": [
       "<matplotlib.figure.Figure at 0x10c16a0b8>"
      ]
     },
     "metadata": {},
     "output_type": "display_data"
    }
   ],
   "source": [
    "nuv_val = np.linspace(18, 25, 500)\n",
    "cumnuv = [(targets.nuv<n).sum() for n in nuv_val]\n",
    "plt.plot(nuv_val, cumnuv, '-')\n",
    "plt.xlabel('NUV')\n",
    "plt.ylabel('N(<NUV)')\n",
    "plt.yscale('log');"
   ]
  },
  {
   "cell_type": "code",
   "execution_count": 9,
   "metadata": {
    "collapsed": false,
    "deletable": true,
    "editable": true
   },
   "outputs": [
    {
     "name": "stdout",
     "output_type": "stream",
     "text": [
      "6\n"
     ]
    }
   ],
   "source": [
    "nuv_cut = 21.5\n",
    "n_cut = 5\n",
    "r_e_cut = 5\n",
    "mu_0_faint = 24.5\n",
    "mu_0_bright = 25\n",
    "cut = targets.nuv < nuv_cut\n",
    "#cut &= targets.nuv < 21.5\n",
    "cut &= targets.n < n_cut\n",
    "cut &= targets.r_e > r_e_cut\n",
    "cut &= targets.mu_0_forced_g > mu_0_faint\n",
    "cut &= targets.mu_0_forced_g < mu_0_bright\n",
    "objects = targets.loc[cut].copy()\n",
    "objects.sort_values('nuv', inplace=True)\n",
    "print(len(targets.loc[cut]))"
   ]
  },
  {
   "cell_type": "code",
   "execution_count": 10,
   "metadata": {
    "collapsed": false,
    "deletable": true,
    "editable": true,
    "scrolled": false
   },
   "outputs": [
    {
     "name": "stdout",
     "output_type": "stream",
     "text": [
      "       nuv  mu_0_forced_g\n",
      "id                       \n",
      "741  20.27      24.841364\n",
      "745  20.36      24.652373\n",
      "575  20.70      24.649176\n",
      "770  20.78      24.915992\n",
      "515  21.20      24.895060\n",
      "540  21.31      24.833912\n"
     ]
    },
    {
     "data": {
      "text/html": [
       "<img style='width: 220px; height:220px;margin:0px; float: left; border: 5px solid black;'src='../../udg-zoo/io/images/candy-1603.png' /><img style='width: 220px; height:220px;margin:0px; float: left; border: 5px solid black;'src='../../udg-zoo/io/images/candy-1611.png' /><img style='width: 220px; height:220px;margin:0px; float: left; border: 5px solid black;'src='../../udg-zoo/io/images/candy-1259.png' /><img style='width: 220px; height:220px;margin:0px; float: left; border: 5px solid black;'src='../../udg-zoo/io/images/candy-1655.png' /><img style='width: 220px; height:220px;margin:0px; float: left; border: 5px solid black;'src='../../udg-zoo/io/images/candy-1164.png' /><img style='width: 220px; height:220px;margin:0px; float: left; border: 5px solid black;'src='../../udg-zoo/io/images/candy-1201.png' />"
      ],
      "text/plain": [
       "<IPython.core.display.HTML object>"
      ]
     },
     "metadata": {},
     "output_type": "display_data"
    }
   ],
   "source": [
    "print(objects[['nuv', 'mu_0_forced_g']])\n",
    "hdgal.nbtools.display_group(objects['viz-id'], image_dir='../../udg-zoo/io/images/')"
   ]
  },
  {
   "cell_type": "code",
   "execution_count": 490,
   "metadata": {
    "collapsed": true,
    "deletable": true,
    "editable": true
   },
   "outputs": [],
   "source": [
    "ids = np.array([662, 522, 605, 40, 614, 741, 745, 515, 540, 497])"
   ]
  },
  {
   "cell_type": "code",
   "execution_count": 504,
   "metadata": {
    "collapsed": false,
    "deletable": true,
    "editable": true
   },
   "outputs": [
    {
     "data": {
      "text/plain": [
       "<matplotlib.text.Text at 0x118639208>"
      ]
     },
     "execution_count": 504,
     "metadata": {},
     "output_type": "execute_result"
    },
    {
     "data": {
      "image/png": "[encoded data removed]",
      "text/plain": [
       "<matplotlib.figure.Figure at 0x1186a2908>"
      ]
     },
     "metadata": {},
     "output_type": "display_data"
    }
   ],
   "source": [
    "plt.hist(targets.loc[ids, 'mu_0_forced_g'], bins='auto')\n",
    "plt.xlabel(r'$\\mu_0(g)$')"
   ]
  },
  {
   "cell_type": "code",
   "execution_count": 505,
   "metadata": {
    "collapsed": false,
    "deletable": true,
    "editable": true
   },
   "outputs": [
    {
     "data": {
      "text/plain": [
       "<matplotlib.text.Text at 0x116f39860>"
      ]
     },
     "execution_count": 505,
     "metadata": {},
     "output_type": "execute_result"
    },
    {
     "data": {
      "image/png": "[encoded data removed]",
      "text/plain": [
       "<matplotlib.figure.Figure at 0x113fd7470>"
      ]
     },
     "metadata": {},
     "output_type": "display_data"
    }
   ],
   "source": [
    "plt.hist(targets.loc[ids, 'nuv'], bins='auto')\n",
    "plt.xlabel(r'NUV')"
   ]
  },
  {
   "cell_type": "code",
   "execution_count": 491,
   "metadata": {
    "collapsed": false,
    "deletable": true,
    "editable": true
   },
   "outputs": [
    {
     "data": {
      "text/plain": [
       "id\n",
       "662    1456\n",
       "522    1174\n",
       "605    1327\n",
       "40       91\n",
       "614    1346\n",
       "741    1603\n",
       "745    1611\n",
       "515    1164\n",
       "540    1201\n",
       "497    1140\n",
       "Name: viz-id, dtype: int64"
      ]
     },
     "execution_count": 491,
     "metadata": {},
     "output_type": "execute_result"
    }
   ],
   "source": [
    "targets.loc[ids, 'viz-id']"
   ]
  },
  {
   "cell_type": "code",
   "execution_count": 492,
   "metadata": {
    "collapsed": false,
    "deletable": true,
    "editable": true
   },
   "outputs": [
    {
     "data": {
      "text/html": [
       "<img style='width: 220px; height:220px;margin:0px; float: left; border: 5px solid black;'src='../../udg-zoo/io/images/candy-1456.png' /><img style='width: 220px; height:220px;margin:0px; float: left; border: 5px solid black;'src='../../udg-zoo/io/images/candy-1174.png' /><img style='width: 220px; height:220px;margin:0px; float: left; border: 5px solid black;'src='../../udg-zoo/io/images/candy-1327.png' /><img style='width: 220px; height:220px;margin:0px; float: left; border: 5px solid black;'src='../../udg-zoo/io/images/candy-91.png' /><img style='width: 220px; height:220px;margin:0px; float: left; border: 5px solid black;'src='../../udg-zoo/io/images/candy-1346.png' /><img style='width: 220px; height:220px;margin:0px; float: left; border: 5px solid black;'src='../../udg-zoo/io/images/candy-1603.png' /><img style='width: 220px; height:220px;margin:0px; float: left; border: 5px solid black;'src='../../udg-zoo/io/images/candy-1611.png' /><img style='width: 220px; height:220px;margin:0px; float: left; border: 5px solid black;'src='../../udg-zoo/io/images/candy-1164.png' /><img style='width: 220px; height:220px;margin:0px; float: left; border: 5px solid black;'src='../../udg-zoo/io/images/candy-1201.png' /><img style='width: 220px; height:220px;margin:0px; float: left; border: 5px solid black;'src='../../udg-zoo/io/images/candy-1140.png' />"
      ],
      "text/plain": [
       "<IPython.core.display.HTML object>"
      ]
     },
     "metadata": {},
     "output_type": "display_data"
    }
   ],
   "source": [
    "hdgal.nbtools.display_group(targets.loc[ids, 'viz-id'], image_dir='../../udg-zoo/io/images/')"
   ]
  },
  {
   "cell_type": "code",
   "execution_count": 47,
   "metadata": {
    "collapsed": false,
    "deletable": true,
    "editable": true
   },
   "outputs": [
    {
     "data": {
      "image/png": "[encoded data removed]",
      "text/plain": [
       "<matplotlib.figure.Figure at 0x113848438>"
      ]
     },
     "metadata": {},
     "output_type": "display_data"
    }
   ],
   "source": [
    "targets['nuv'].hist();"
   ]
  }
 ],
 "metadata": {
  "kernelspec": {
   "display_name": "Python [conda env:py35]",
   "language": "python",
   "name": "conda-env-py35-py"
  },
  "language_info": {
   "codemirror_mode": {
    "name": "ipython",
    "version": 3
   },
   "file_extension": ".py",
   "mimetype": "text/x-python",
   "name": "python",
   "nbconvert_exporter": "python",
   "pygments_lexer": "ipython3",
   "version": "3.5.1"
  }
 },
 "nbformat": 4,
 "nbformat_minor": 2
}
